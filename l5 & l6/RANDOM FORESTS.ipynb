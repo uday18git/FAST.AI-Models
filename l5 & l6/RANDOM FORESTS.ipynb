{
 "cells": [
  {
   "cell_type": "markdown",
   "id": "03af0d91",
   "metadata": {},
   "source": [
    "# RANDOM FORESTS"
   ]
  },
  {
   "cell_type": "code",
   "execution_count": 1,
   "id": "1a83ede0",
   "metadata": {},
   "outputs": [],
   "source": [
    "from fastai.imports import *\n",
    "import numpy as np\n",
    "import pandas as pd\n",
    "np.set_printoptions(linewidth=130)"
   ]
  },
  {
   "cell_type": "code",
   "execution_count": 2,
   "id": "aa232ef6",
   "metadata": {},
   "outputs": [],
   "source": [
    "df = pd.read_csv('train.csv')\n",
    "tst_df = pd.read_csv('test.csv')\n",
    "modes = df.mode().iloc[0]"
   ]
  },
  {
   "cell_type": "code",
   "execution_count": 3,
   "id": "a98c8aba",
   "metadata": {},
   "outputs": [
    {
     "data": {
      "text/plain": [
       "PassengerId                      1\n",
       "Survived                       0.0\n",
       "Pclass                         3.0\n",
       "Name           Abbing, Mr. Anthony\n",
       "Sex                           male\n",
       "Age                           24.0\n",
       "SibSp                          0.0\n",
       "Parch                          0.0\n",
       "Ticket                        1601\n",
       "Fare                          8.05\n",
       "Cabin                      B96 B98\n",
       "Embarked                         S\n",
       "Name: 0, dtype: object"
      ]
     },
     "execution_count": 3,
     "metadata": {},
     "output_type": "execute_result"
    }
   ],
   "source": [
    "df.mode().iloc[0]"
   ]
  },
  {
   "cell_type": "code",
   "execution_count": 4,
   "id": "9caa1a7b",
   "metadata": {},
   "outputs": [],
   "source": [
    "def proc_data(df):#processing the data\n",
    "    df['Fare'] = df.Fare.fillna(0)\n",
    "    df.fillna(modes, inplace=True)\n",
    "    df['LogFare'] = np.log1p(df['Fare'])\n",
    "    df['Embarked'] = pd.Categorical(df['Embarked'])\n",
    "    df['Sex'] = pd.Categorical(df['Sex'])\n",
    "\n",
    "proc_data(df)\n",
    "proc_data(tst_df)"
   ]
  },
  {
   "cell_type": "code",
   "execution_count": 5,
   "id": "1642624a",
   "metadata": {},
   "outputs": [
    {
     "data": {
      "text/plain": [
       "0      male\n",
       "1    female\n",
       "2    female\n",
       "3    female\n",
       "4      male\n",
       "Name: Sex, dtype: category\n",
       "Categories (2, object): ['female', 'male']"
      ]
     },
     "execution_count": 5,
     "metadata": {},
     "output_type": "execute_result"
    }
   ],
   "source": [
    "df.Sex.head()"
   ]
  },
  {
   "cell_type": "code",
   "execution_count": 6,
   "id": "513d0c64",
   "metadata": {},
   "outputs": [],
   "source": [
    "cats=[\"Sex\",\"Embarked\"]\n",
    "conts=['Age', 'SibSp', 'Parch', 'LogFare',\"Pclass\"]\n",
    "dep=\"Survived\""
   ]
  },
  {
   "cell_type": "code",
   "execution_count": 7,
   "id": "31b91b9b",
   "metadata": {},
   "outputs": [
    {
     "data": {
      "text/html": [
       "<div>\n",
       "<style scoped>\n",
       "    .dataframe tbody tr th:only-of-type {\n",
       "        vertical-align: middle;\n",
       "    }\n",
       "\n",
       "    .dataframe tbody tr th {\n",
       "        vertical-align: top;\n",
       "    }\n",
       "\n",
       "    .dataframe thead th {\n",
       "        text-align: right;\n",
       "    }\n",
       "</style>\n",
       "<table border=\"1\" class=\"dataframe\">\n",
       "  <thead>\n",
       "    <tr style=\"text-align: right;\">\n",
       "      <th></th>\n",
       "      <th>PassengerId</th>\n",
       "      <th>Survived</th>\n",
       "      <th>Pclass</th>\n",
       "      <th>Name</th>\n",
       "      <th>Sex</th>\n",
       "      <th>Age</th>\n",
       "      <th>SibSp</th>\n",
       "      <th>Parch</th>\n",
       "      <th>Ticket</th>\n",
       "      <th>Fare</th>\n",
       "      <th>Cabin</th>\n",
       "      <th>Embarked</th>\n",
       "      <th>LogFare</th>\n",
       "    </tr>\n",
       "  </thead>\n",
       "  <tbody>\n",
       "    <tr>\n",
       "      <th>0</th>\n",
       "      <td>1</td>\n",
       "      <td>0</td>\n",
       "      <td>3</td>\n",
       "      <td>Braund, Mr. Owen Harris</td>\n",
       "      <td>male</td>\n",
       "      <td>22.0</td>\n",
       "      <td>1</td>\n",
       "      <td>0</td>\n",
       "      <td>A/5 21171</td>\n",
       "      <td>7.2500</td>\n",
       "      <td>B96 B98</td>\n",
       "      <td>S</td>\n",
       "      <td>2.110213</td>\n",
       "    </tr>\n",
       "    <tr>\n",
       "      <th>1</th>\n",
       "      <td>2</td>\n",
       "      <td>1</td>\n",
       "      <td>1</td>\n",
       "      <td>Cumings, Mrs. John Bradley (Florence Briggs Thayer)</td>\n",
       "      <td>female</td>\n",
       "      <td>38.0</td>\n",
       "      <td>1</td>\n",
       "      <td>0</td>\n",
       "      <td>PC 17599</td>\n",
       "      <td>71.2833</td>\n",
       "      <td>C85</td>\n",
       "      <td>C</td>\n",
       "      <td>4.280593</td>\n",
       "    </tr>\n",
       "    <tr>\n",
       "      <th>2</th>\n",
       "      <td>3</td>\n",
       "      <td>1</td>\n",
       "      <td>3</td>\n",
       "      <td>Heikkinen, Miss. Laina</td>\n",
       "      <td>female</td>\n",
       "      <td>26.0</td>\n",
       "      <td>0</td>\n",
       "      <td>0</td>\n",
       "      <td>STON/O2. 3101282</td>\n",
       "      <td>7.9250</td>\n",
       "      <td>B96 B98</td>\n",
       "      <td>S</td>\n",
       "      <td>2.188856</td>\n",
       "    </tr>\n",
       "    <tr>\n",
       "      <th>3</th>\n",
       "      <td>4</td>\n",
       "      <td>1</td>\n",
       "      <td>1</td>\n",
       "      <td>Futrelle, Mrs. Jacques Heath (Lily May Peel)</td>\n",
       "      <td>female</td>\n",
       "      <td>35.0</td>\n",
       "      <td>1</td>\n",
       "      <td>0</td>\n",
       "      <td>113803</td>\n",
       "      <td>53.1000</td>\n",
       "      <td>C123</td>\n",
       "      <td>S</td>\n",
       "      <td>3.990834</td>\n",
       "    </tr>\n",
       "    <tr>\n",
       "      <th>4</th>\n",
       "      <td>5</td>\n",
       "      <td>0</td>\n",
       "      <td>3</td>\n",
       "      <td>Allen, Mr. William Henry</td>\n",
       "      <td>male</td>\n",
       "      <td>35.0</td>\n",
       "      <td>0</td>\n",
       "      <td>0</td>\n",
       "      <td>373450</td>\n",
       "      <td>8.0500</td>\n",
       "      <td>B96 B98</td>\n",
       "      <td>S</td>\n",
       "      <td>2.202765</td>\n",
       "    </tr>\n",
       "    <tr>\n",
       "      <th>...</th>\n",
       "      <td>...</td>\n",
       "      <td>...</td>\n",
       "      <td>...</td>\n",
       "      <td>...</td>\n",
       "      <td>...</td>\n",
       "      <td>...</td>\n",
       "      <td>...</td>\n",
       "      <td>...</td>\n",
       "      <td>...</td>\n",
       "      <td>...</td>\n",
       "      <td>...</td>\n",
       "      <td>...</td>\n",
       "      <td>...</td>\n",
       "    </tr>\n",
       "    <tr>\n",
       "      <th>886</th>\n",
       "      <td>887</td>\n",
       "      <td>0</td>\n",
       "      <td>2</td>\n",
       "      <td>Montvila, Rev. Juozas</td>\n",
       "      <td>male</td>\n",
       "      <td>27.0</td>\n",
       "      <td>0</td>\n",
       "      <td>0</td>\n",
       "      <td>211536</td>\n",
       "      <td>13.0000</td>\n",
       "      <td>B96 B98</td>\n",
       "      <td>S</td>\n",
       "      <td>2.639057</td>\n",
       "    </tr>\n",
       "    <tr>\n",
       "      <th>887</th>\n",
       "      <td>888</td>\n",
       "      <td>1</td>\n",
       "      <td>1</td>\n",
       "      <td>Graham, Miss. Margaret Edith</td>\n",
       "      <td>female</td>\n",
       "      <td>19.0</td>\n",
       "      <td>0</td>\n",
       "      <td>0</td>\n",
       "      <td>112053</td>\n",
       "      <td>30.0000</td>\n",
       "      <td>B42</td>\n",
       "      <td>S</td>\n",
       "      <td>3.433987</td>\n",
       "    </tr>\n",
       "    <tr>\n",
       "      <th>888</th>\n",
       "      <td>889</td>\n",
       "      <td>0</td>\n",
       "      <td>3</td>\n",
       "      <td>Johnston, Miss. Catherine Helen \"Carrie\"</td>\n",
       "      <td>female</td>\n",
       "      <td>24.0</td>\n",
       "      <td>1</td>\n",
       "      <td>2</td>\n",
       "      <td>W./C. 6607</td>\n",
       "      <td>23.4500</td>\n",
       "      <td>B96 B98</td>\n",
       "      <td>S</td>\n",
       "      <td>3.196630</td>\n",
       "    </tr>\n",
       "    <tr>\n",
       "      <th>889</th>\n",
       "      <td>890</td>\n",
       "      <td>1</td>\n",
       "      <td>1</td>\n",
       "      <td>Behr, Mr. Karl Howell</td>\n",
       "      <td>male</td>\n",
       "      <td>26.0</td>\n",
       "      <td>0</td>\n",
       "      <td>0</td>\n",
       "      <td>111369</td>\n",
       "      <td>30.0000</td>\n",
       "      <td>C148</td>\n",
       "      <td>C</td>\n",
       "      <td>3.433987</td>\n",
       "    </tr>\n",
       "    <tr>\n",
       "      <th>890</th>\n",
       "      <td>891</td>\n",
       "      <td>0</td>\n",
       "      <td>3</td>\n",
       "      <td>Dooley, Mr. Patrick</td>\n",
       "      <td>male</td>\n",
       "      <td>32.0</td>\n",
       "      <td>0</td>\n",
       "      <td>0</td>\n",
       "      <td>370376</td>\n",
       "      <td>7.7500</td>\n",
       "      <td>B96 B98</td>\n",
       "      <td>Q</td>\n",
       "      <td>2.169054</td>\n",
       "    </tr>\n",
       "  </tbody>\n",
       "</table>\n",
       "<p>891 rows × 13 columns</p>\n",
       "</div>"
      ],
      "text/plain": [
       "     PassengerId  Survived  Pclass  \\\n",
       "0              1         0       3   \n",
       "1              2         1       1   \n",
       "2              3         1       3   \n",
       "3              4         1       1   \n",
       "4              5         0       3   \n",
       "..           ...       ...     ...   \n",
       "886          887         0       2   \n",
       "887          888         1       1   \n",
       "888          889         0       3   \n",
       "889          890         1       1   \n",
       "890          891         0       3   \n",
       "\n",
       "                                                    Name     Sex   Age  SibSp  \\\n",
       "0                                Braund, Mr. Owen Harris    male  22.0      1   \n",
       "1    Cumings, Mrs. John Bradley (Florence Briggs Thayer)  female  38.0      1   \n",
       "2                                 Heikkinen, Miss. Laina  female  26.0      0   \n",
       "3           Futrelle, Mrs. Jacques Heath (Lily May Peel)  female  35.0      1   \n",
       "4                               Allen, Mr. William Henry    male  35.0      0   \n",
       "..                                                   ...     ...   ...    ...   \n",
       "886                                Montvila, Rev. Juozas    male  27.0      0   \n",
       "887                         Graham, Miss. Margaret Edith  female  19.0      0   \n",
       "888             Johnston, Miss. Catherine Helen \"Carrie\"  female  24.0      1   \n",
       "889                                Behr, Mr. Karl Howell    male  26.0      0   \n",
       "890                                  Dooley, Mr. Patrick    male  32.0      0   \n",
       "\n",
       "     Parch            Ticket     Fare    Cabin Embarked   LogFare  \n",
       "0        0         A/5 21171   7.2500  B96 B98        S  2.110213  \n",
       "1        0          PC 17599  71.2833      C85        C  4.280593  \n",
       "2        0  STON/O2. 3101282   7.9250  B96 B98        S  2.188856  \n",
       "3        0            113803  53.1000     C123        S  3.990834  \n",
       "4        0            373450   8.0500  B96 B98        S  2.202765  \n",
       "..     ...               ...      ...      ...      ...       ...  \n",
       "886      0            211536  13.0000  B96 B98        S  2.639057  \n",
       "887      0            112053  30.0000      B42        S  3.433987  \n",
       "888      2        W./C. 6607  23.4500  B96 B98        S  3.196630  \n",
       "889      0            111369  30.0000     C148        C  3.433987  \n",
       "890      0            370376   7.7500  B96 B98        Q  2.169054  \n",
       "\n",
       "[891 rows x 13 columns]"
      ]
     },
     "execution_count": 7,
     "metadata": {},
     "output_type": "execute_result"
    }
   ],
   "source": [
    "df"
   ]
  },
  {
   "cell_type": "markdown",
   "id": "5d5a53a1",
   "metadata": {},
   "source": [
    "## Binary splits - A random forest is a ensemble of trees and a tree is a ensemble of binary splits"
   ]
  },
  {
   "cell_type": "code",
   "execution_count": 8,
   "id": "920e1965",
   "metadata": {},
   "outputs": [],
   "source": [
    "import seaborn as sns"
   ]
  },
  {
   "cell_type": "code",
   "execution_count": 9,
   "id": "8409ab83",
   "metadata": {},
   "outputs": [
    {
     "data": {
      "image/png": "[encoded data removed]",
      "text/plain": [
       "<Figure size 792x360 with 2 Axes>"
      ]
     },
     "metadata": {
      "needs_background": "light"
     },
     "output_type": "display_data"
    }
   ],
   "source": [
    "fig,axs = plt.subplots(1,2, figsize=(11,5))\n",
    "sns.barplot(data=df, y=dep, x=\"Sex\", ax=axs[0]).set(title=\"Survival rate\")\n",
    "sns.countplot(data=df, x=\"Sex\", ax=axs[1]).set(title=\"Histogram\");#WE CAN SEE THAT SURVIVAL RATES OF MALE AND FEMALES ARE VERY DIFFERENT "
   ]
  },
  {
   "cell_type": "code",
   "execution_count": 10,
   "id": "06608de5",
   "metadata": {},
   "outputs": [],
   "source": [
    "from numpy import random\n",
    "from sklearn.model_selection import train_test_split\n",
    "\n",
    "random.seed(42)\n",
    "trn_df,val_df = train_test_split(df, test_size=0.25)#SPLTTING INTO TRAINING AND TEST SETS USING SCIKIT LEARN \n",
    "trn_df[cats] = trn_df[cats].apply(lambda x: x.cat.codes)#CONVERTING ALL CATEGORICAL VARIABLES INTO THERE CODES\n",
    "val_df[cats] = val_df[cats].apply(lambda x: x.cat.codes)"
   ]
  },
  {
   "cell_type": "code",
   "execution_count": 11,
   "id": "72663f18",
   "metadata": {},
   "outputs": [],
   "source": [
    "def xs_y(df):#RETURNS THE INDEPENDENT AND DEPENDENT VARIABLES\n",
    "    xs = df[cats+conts].copy() #CATEGORICAL PLUS CONSTANT VARIABLES GIVE INDEPENDENT VARIABLES OR X \n",
    "    return xs,df[dep] if dep in df else None\n",
    "\n",
    "trn_xs,trn_y = xs_y(trn_df)#train\n",
    "val_xs,val_y = xs_y(val_df)#validation "
   ]
  },
  {
   "cell_type": "code",
   "execution_count": 12,
   "id": "271ac9f6",
   "metadata": {},
   "outputs": [],
   "source": [
    "copy?"
   ]
  },
  {
   "cell_type": "code",
   "execution_count": 13,
   "id": "4416067e",
   "metadata": {},
   "outputs": [],
   "source": [
    "preds = val_xs.Sex==0 #preds value true if they are female"
   ]
  },
  {
   "cell_type": "code",
   "execution_count": 14,
   "id": "f250aff4",
   "metadata": {},
   "outputs": [
    {
     "data": {
      "text/plain": [
       "0.21524663677130046"
      ]
     },
     "execution_count": 14,
     "metadata": {},
     "output_type": "execute_result"
    }
   ],
   "source": [
    "from sklearn.metrics import mean_absolute_error\n",
    "mean_absolute_error(val_y,preds)"
   ]
  },
  {
   "cell_type": "code",
   "execution_count": 15,
   "id": "89ddacb8",
   "metadata": {},
   "outputs": [
    {
     "data": {
      "image/png": "[encoded data removed]",
      "text/plain": [
       "<Figure size 792x360 with 2 Axes>"
      ]
     },
     "metadata": {
      "needs_background": "light"
     },
     "output_type": "display_data"
    }
   ],
   "source": [
    "df_fare = trn_df[trn_df.LogFare>0]\n",
    "fig,axs = plt.subplots(1,2, figsize=(11,5))\n",
    "sns.boxenplot(data=df_fare, x=dep, y=\"LogFare\", ax=axs[0])\n",
    "sns.kdeplot(data=df_fare, x=\"LogFare\", ax=axs[1]);"
   ]
  },
  {
   "cell_type": "code",
   "execution_count": 16,
   "id": "57e4449d",
   "metadata": {},
   "outputs": [],
   "source": [
    "preds = val_xs.LogFare>2.7 #trying to predict using fares distribution"
   ]
  },
  {
   "cell_type": "code",
   "execution_count": 17,
   "id": "236f405c",
   "metadata": {},
   "outputs": [
    {
     "data": {
      "text/plain": [
       "0.336322869955157"
      ]
     },
     "execution_count": 17,
     "metadata": {},
     "output_type": "execute_result"
    }
   ],
   "source": [
    "mean_absolute_error(val_y, preds) #worse error"
   ]
  },
  {
   "cell_type": "code",
   "execution_count": 18,
   "id": "c77a5621",
   "metadata": {},
   "outputs": [],
   "source": [
    "def _side_score(side, y): #to find a score  how good of a binary split it is whether it is categorical or continous or whatever data \n",
    "    tot = side.sum() # a good split is in which all of the dependent variables on one side are all pretty much the same, if all the males have the same out come that is did not survive and all the females have the same outcome that is did survive then that is a good split\n",
    "    if tot<=1: return 0\n",
    "    return y[side].std()*tot#multiplied by the number of count in that group"
   ]
  },
  {
   "cell_type": "code",
   "execution_count": 19,
   "id": "8a2bf435",
   "metadata": {},
   "outputs": [],
   "source": [
    "def score(col, y, split): \n",
    "    lhs = col<=split\n",
    "    return (_side_score(lhs,y) + _side_score(~lhs,y))/len(y)#lhs+rhs"
   ]
  },
  {
   "cell_type": "code",
   "execution_count": 20,
   "id": "4ca12345",
   "metadata": {},
   "outputs": [
    {
     "data": {
      "text/plain": [
       "0.4078753098206398"
      ]
     },
     "execution_count": 20,
     "metadata": {},
     "output_type": "execute_result"
    }
   ],
   "source": [
    "score(trn_xs[\"Sex\"], trn_y, 0.5)"
   ]
  },
  {
   "cell_type": "code",
   "execution_count": 21,
   "id": "fd197abc",
   "metadata": {},
   "outputs": [
    {
     "data": {
      "text/plain": [
       "0.4828257748854045"
      ]
     },
     "execution_count": 21,
     "metadata": {},
     "output_type": "execute_result"
    }
   ],
   "source": [
    "score(trn_xs[\"LogFare\"], trn_y, 0.5) #lower score is better"
   ]
  },
  {
   "cell_type": "code",
   "execution_count": 22,
   "id": "b587f8d8",
   "metadata": {},
   "outputs": [
    {
     "data": {
      "application/vnd.jupyter.widget-view+json": {
       "model_id": "",
       "version_major": 2,
       "version_minor": 0
      },
      "text/plain": [
       "interactive(children=(Dropdown(description='nm', options=('Age', 'SibSp', 'Parch', 'LogFare', 'Pclass'), value…"
      ]
     },
     "metadata": {},
     "output_type": "display_data"
    }
   ],
   "source": [
    "def iscore(nm, split):\n",
    "    col = trn_xs[nm]\n",
    "    return score(col, trn_y, split)\n",
    "\n",
    "from ipywidgets import interact\n",
    "interact(nm=conts, split=15.5)(iscore);"
   ]
  },
  {
   "cell_type": "code",
   "execution_count": 23,
   "id": "7d18d2db",
   "metadata": {},
   "outputs": [
    {
     "data": {
      "application/vnd.jupyter.widget-view+json": {
       "model_id": "",
       "version_major": 2,
       "version_minor": 0
      },
      "text/plain": [
       "interactive(children=(Dropdown(description='nm', options=('Sex', 'Embarked'), value='Sex'), IntSlider(value=2,…"
      ]
     },
     "metadata": {},
     "output_type": "display_data"
    }
   ],
   "source": [
    "interact(nm=cats, split=2)(iscore);"
   ]
  },
  {
   "cell_type": "code",
   "execution_count": 24,
   "id": "001ebdf4",
   "metadata": {},
   "outputs": [],
   "source": [
    "#to automate the above 2 cells"
   ]
  },
  {
   "cell_type": "code",
   "execution_count": 25,
   "id": "c5631189",
   "metadata": {},
   "outputs": [],
   "source": [
    "nm = \"Age\"\n",
    "col = trn_xs[nm]\n",
    "unq = col.unique()#take all the unq values of age and try each one\n",
    "unq.sort()"
   ]
  },
  {
   "cell_type": "code",
   "execution_count": 26,
   "id": "e353605d",
   "metadata": {},
   "outputs": [
    {
     "data": {
      "text/plain": [
       "array([ 0.42,  0.67,  0.75,  0.83,  0.92,  1.  ,  2.  ,  3.  ,  4.  ,  5.  ,  6.  ,  7.  ,  8.  ,  9.  , 10.  , 11.  , 12.  ,\n",
       "       13.  , 14.  , 14.5 , 15.  , 16.  , 17.  , 18.  , 19.  , 20.  , 21.  , 22.  , 23.  , 24.  , 24.5 , 25.  , 26.  , 27.  ,\n",
       "       28.  , 28.5 , 29.  , 30.  , 31.  , 32.  , 32.5 , 33.  , 34.  , 34.5 , 35.  , 36.  , 36.5 , 37.  , 38.  , 39.  , 40.  ,\n",
       "       40.5 , 41.  , 42.  , 43.  , 44.  , 45.  , 45.5 , 46.  , 47.  , 48.  , 49.  , 50.  , 51.  , 52.  , 53.  , 54.  , 55.  ,\n",
       "       55.5 , 56.  , 57.  , 58.  , 59.  , 60.  , 61.  , 62.  , 64.  , 65.  , 70.  , 70.5 , 74.  , 80.  ])"
      ]
     },
     "execution_count": 26,
     "metadata": {},
     "output_type": "execute_result"
    }
   ],
   "source": [
    "unq"
   ]
  },
  {
   "cell_type": "code",
   "execution_count": 27,
   "id": "2f87a33f",
   "metadata": {},
   "outputs": [
    {
     "data": {
      "text/plain": [
       "6.0"
      ]
     },
     "execution_count": 27,
     "metadata": {},
     "output_type": "execute_result"
    }
   ],
   "source": [
    "scores = np.array([score(col, trn_y, o) for o in unq if not np.isnan(o)])\n",
    "unq[scores.argmin()]#find the minimum one(gives index)"
   ]
  },
  {
   "cell_type": "code",
   "execution_count": 28,
   "id": "34e29b1a",
   "metadata": {},
   "outputs": [
    {
     "data": {
      "text/plain": [
       "(6.0, 0.47831671750899085)"
      ]
     },
     "execution_count": 28,
     "metadata": {},
     "output_type": "execute_result"
    }
   ],
   "source": [
    "def min_col(df, nm):\n",
    "    col,y = df[nm],df[dep]\n",
    "    unq = col.dropna().unique()\n",
    "    scores = np.array([score(col, y, o) for o in unq if not np.isnan(o)])\n",
    "    idx = scores.argmin()\n",
    "    return unq[idx],scores[idx]\n",
    "\n",
    "min_col(trn_df, \"Age\")"
   ]
  },
  {
   "cell_type": "code",
   "execution_count": 29,
   "id": "ae73729b",
   "metadata": {},
   "outputs": [
    {
     "data": {
      "text/plain": [
       "{'Sex': (0, 0.4078753098206398),\n",
       " 'Embarked': (0, 0.478833425731479),\n",
       " 'Age': (6.0, 0.47831671750899085),\n",
       " 'SibSp': (4, 0.4783740258817423),\n",
       " 'Parch': (0, 0.4805296527841601),\n",
       " 'LogFare': (2.4390808375825834, 0.4620823937736595),\n",
       " 'Pclass': (2, 0.4604826188580666)}"
      ]
     },
     "execution_count": 29,
     "metadata": {},
     "output_type": "execute_result"
    }
   ],
   "source": [
    "cols = cats+conts\n",
    "{o:min_col(trn_df, o) for o in cols}"
   ]
  },
  {
   "cell_type": "code",
   "execution_count": 30,
   "id": "702ea504",
   "metadata": {},
   "outputs": [],
   "source": [
    "# this is called one-r model ,one of the best classifiers , dont assume you have to go complicated "
   ]
  },
  {
   "cell_type": "markdown",
   "id": "6d4fc907",
   "metadata": {},
   "source": [
    "# DESCISION TREE"
   ]
  },
  {
   "cell_type": "code",
   "execution_count": 31,
   "id": "170275d0",
   "metadata": {},
   "outputs": [],
   "source": [
    "cols.remove(\"Sex\")\n",
    "ismale = trn_df.Sex==1\n",
    "males,females = trn_df[ismale],trn_df[~ismale]"
   ]
  },
  {
   "cell_type": "code",
   "execution_count": 32,
   "id": "76d56790",
   "metadata": {},
   "outputs": [
    {
     "data": {
      "text/plain": [
       "{'Embarked': (0, 0.387558187041091),\n",
       " 'Age': (6.0, 0.37398283710105873),\n",
       " 'SibSp': (4, 0.38758642275862637),\n",
       " 'Parch': (0, 0.3874704821461953),\n",
       " 'LogFare': (2.803360380906535, 0.38048562317581447),\n",
       " 'Pclass': (1, 0.3815544200436083)}"
      ]
     },
     "execution_count": 32,
     "metadata": {},
     "output_type": "execute_result"
    }
   ],
   "source": [
    "# Now let's find the single best binary split for males\n",
    "{o:min_col(males, o) for o in cols}"
   ]
  },
  {
   "cell_type": "code",
   "execution_count": 33,
   "id": "8e0be6d5",
   "metadata": {},
   "outputs": [
    {
     "data": {
      "text/plain": [
       "{'Embarked': (0, 0.4295252982857326),\n",
       " 'Age': (50.0, 0.4225927658431646),\n",
       " 'SibSp': (4, 0.42319212059713585),\n",
       " 'Parch': (3, 0.4193314500446157),\n",
       " 'LogFare': (4.256321678298823, 0.413505983329114),\n",
       " 'Pclass': (2, 0.3335388911567602)}"
      ]
     },
     "execution_count": 33,
     "metadata": {},
     "output_type": "execute_result"
    }
   ],
   "source": [
    "{o:min_col(females, o) for o in cols} #SAME FOR FEMALES # the least in this 0.3335 is the biggest factor of these that will predict whether a female will survive or not"
   ]
  },
  {
   "cell_type": "code",
   "execution_count": 34,
   "id": "cfd57d31",
   "metadata": {},
   "outputs": [],
   "source": [
    "from sklearn.tree import DecisionTreeClassifier, export_graphviz\n",
    "m = DecisionTreeClassifier(max_leaf_nodes=4).fit(trn_xs, trn_y);"
   ]
  },
  {
   "cell_type": "code",
   "execution_count": 35,
   "id": "d8612554",
   "metadata": {},
   "outputs": [],
   "source": [
    "import graphviz\n",
    "\n",
    "def draw_tree(t, df, size=10, ratio=0.6, precision=2, **kwargs):\n",
    "    s=export_graphviz(t, out_file=None, feature_names=df.columns, filled=True, rounded=True,\n",
    "                      special_characters=True, rotate=False, precision=precision, **kwargs)\n",
    "    return graphviz.Source(re.sub('Tree {', f'Tree {{ size={size}; ratio={ratio}', s))"
   ]
  },
  {
   "cell_type": "code",
   "execution_count": 36,
   "id": "917b5831",
   "metadata": {
    "scrolled": true
   },
   "outputs": [
    {
     "data": {
      "image/svg+xml": [
       "<?xml version=\"1.0\" encoding=\"UTF-8\" standalone=\"no\"?>\n",
       "<!DOCTYPE svg PUBLIC \"-//W3C//DTD SVG 1.1//EN\"\n",
       " \"http://www.w3.org/Graphics/SVG/1.1/DTD/svg11.dtd\">\n",
       "<!-- Generated by graphviz version 7.1.0 (20230121.1956)\n",
       " -->\n",
       "<!-- Title: Tree Pages: 1 -->\n",
       "<svg width=\"522pt\" height=\"316pt\"\n",
       " viewBox=\"0.00 0.00 521.50 315.80\" xmlns=\"http://www.w3.org/2000/svg\" xmlns:xlink=\"http://www.w3.org/1999/xlink\">\n",
       "<g id=\"graph0\" class=\"graph\" transform=\"scale(1 1) rotate(0) translate(4 311.8)\">\n",
       "<title>Tree</title>\n",
       "<polygon fill=\"white\" stroke=\"none\" points=\"-4,4 -4,-311.8 517.5,-311.8 517.5,4 -4,4\"/>\n",
       "<!-- 0 -->\n",
       "<g id=\"node1\" class=\"node\">\n",
       "<title>0</title>\n",
       "<path fill=\"#f5ceb2\" stroke=\"black\" d=\"M306.5,-302C306.5,-302 200.5,-302 200.5,-302 194.5,-302 188.5,-296 188.5,-290 188.5,-290 188.5,-246 188.5,-246 188.5,-240 194.5,-234 200.5,-234 200.5,-234 306.5,-234 306.5,-234 312.5,-234 318.5,-240 318.5,-246 318.5,-246 318.5,-290 318.5,-290 318.5,-296 312.5,-302 306.5,-302\"/>\n",
       "<text text-anchor=\"start\" x=\"223\" y=\"-286.8\" font-family=\"Helvetica,sans-Serif\" font-size=\"14.00\">Sex ≤ 0.5</text>\n",
       "<text text-anchor=\"start\" x=\"220\" y=\"-271.8\" font-family=\"Helvetica,sans-Serif\" font-size=\"14.00\">gini = 0.47</text>\n",
       "<text text-anchor=\"start\" x=\"206\" y=\"-256.8\" font-family=\"Helvetica,sans-Serif\" font-size=\"14.00\">samples = 668</text>\n",
       "<text text-anchor=\"start\" x=\"196.5\" y=\"-241.8\" font-family=\"Helvetica,sans-Serif\" font-size=\"14.00\">value = [415, 253]</text>\n",
       "</g>\n",
       "<!-- 1 -->\n",
       "<g id=\"node2\" class=\"node\">\n",
       "<title>1</title>\n",
       "<path fill=\"#7ebfee\" stroke=\"black\" d=\"M232.5,-179C232.5,-179 134.5,-179 134.5,-179 128.5,-179 122.5,-173 122.5,-167 122.5,-167 122.5,-123 122.5,-123 122.5,-117 128.5,-111 134.5,-111 134.5,-111 232.5,-111 232.5,-111 238.5,-111 244.5,-117 244.5,-123 244.5,-123 244.5,-167 244.5,-167 244.5,-173 238.5,-179 232.5,-179\"/>\n",
       "<text text-anchor=\"start\" x=\"144\" y=\"-163.8\" font-family=\"Helvetica,sans-Serif\" font-size=\"14.00\">Pclass ≤ 2.5</text>\n",
       "<text text-anchor=\"start\" x=\"150\" y=\"-148.8\" font-family=\"Helvetica,sans-Serif\" font-size=\"14.00\">gini = 0.38</text>\n",
       "<text text-anchor=\"start\" x=\"136\" y=\"-133.8\" font-family=\"Helvetica,sans-Serif\" font-size=\"14.00\">samples = 229</text>\n",
       "<text text-anchor=\"start\" x=\"130.5\" y=\"-118.8\" font-family=\"Helvetica,sans-Serif\" font-size=\"14.00\">value = [59, 170]</text>\n",
       "</g>\n",
       "<!-- 0&#45;&gt;1 -->\n",
       "<g id=\"edge1\" class=\"edge\">\n",
       "<title>0&#45;&gt;1</title>\n",
       "<path fill=\"none\" stroke=\"black\" d=\"M234.19,-233.62C226.23,-219.86 216.91,-203.75 208.45,-189.12\"/>\n",
       "<polygon fill=\"black\" stroke=\"black\" points=\"211.55,-187.49 203.51,-180.59 205.49,-190.99 211.55,-187.49\"/>\n",
       "<text text-anchor=\"middle\" x=\"196.3\" y=\"-199.73\" font-family=\"Helvetica,sans-Serif\" font-size=\"14.00\">True</text>\n",
       "</g>\n",
       "<!-- 2 -->\n",
       "<g id=\"node5\" class=\"node\">\n",
       "<title>2</title>\n",
       "<path fill=\"#eb9e67\" stroke=\"black\" d=\"M372.5,-179C372.5,-179 274.5,-179 274.5,-179 268.5,-179 262.5,-173 262.5,-167 262.5,-167 262.5,-123 262.5,-123 262.5,-117 268.5,-111 274.5,-111 274.5,-111 372.5,-111 372.5,-111 378.5,-111 384.5,-117 384.5,-123 384.5,-123 384.5,-167 384.5,-167 384.5,-173 378.5,-179 372.5,-179\"/>\n",
       "<text text-anchor=\"start\" x=\"292.5\" y=\"-163.8\" font-family=\"Helvetica,sans-Serif\" font-size=\"14.00\">Age ≤ 6.5</text>\n",
       "<text text-anchor=\"start\" x=\"290\" y=\"-148.8\" font-family=\"Helvetica,sans-Serif\" font-size=\"14.00\">gini = 0.31</text>\n",
       "<text text-anchor=\"start\" x=\"276\" y=\"-133.8\" font-family=\"Helvetica,sans-Serif\" font-size=\"14.00\">samples = 439</text>\n",
       "<text text-anchor=\"start\" x=\"270.5\" y=\"-118.8\" font-family=\"Helvetica,sans-Serif\" font-size=\"14.00\">value = [356, 83]</text>\n",
       "</g>\n",
       "<!-- 0&#45;&gt;2 -->\n",
       "<g id=\"edge4\" class=\"edge\">\n",
       "<title>0&#45;&gt;2</title>\n",
       "<path fill=\"none\" stroke=\"black\" d=\"M272.81,-233.62C280.77,-219.86 290.09,-203.75 298.55,-189.12\"/>\n",
       "<polygon fill=\"black\" stroke=\"black\" points=\"301.51,-190.99 303.49,-180.59 295.45,-187.49 301.51,-190.99\"/>\n",
       "<text text-anchor=\"middle\" x=\"310.7\" y=\"-199.73\" font-family=\"Helvetica,sans-Serif\" font-size=\"14.00\">False</text>\n",
       "</g>\n",
       "<!-- 3 -->\n",
       "<g id=\"node3\" class=\"node\">\n",
       "<title>3</title>\n",
       "<path fill=\"#40a0e6\" stroke=\"black\" d=\"M101,-57.5C101,-57.5 12,-57.5 12,-57.5 6,-57.5 0,-51.5 0,-45.5 0,-45.5 0,-16.5 0,-16.5 0,-10.5 6,-4.5 12,-4.5 12,-4.5 101,-4.5 101,-4.5 107,-4.5 113,-10.5 113,-16.5 113,-16.5 113,-45.5 113,-45.5 113,-51.5 107,-57.5 101,-57.5\"/>\n",
       "<text text-anchor=\"start\" x=\"23\" y=\"-42.3\" font-family=\"Helvetica,sans-Serif\" font-size=\"14.00\">gini = 0.06</text>\n",
       "<text text-anchor=\"start\" x=\"9\" y=\"-27.3\" font-family=\"Helvetica,sans-Serif\" font-size=\"14.00\">samples = 120</text>\n",
       "<text text-anchor=\"start\" x=\"8\" y=\"-12.3\" font-family=\"Helvetica,sans-Serif\" font-size=\"14.00\">value = [4, 116]</text>\n",
       "</g>\n",
       "<!-- 1&#45;&gt;3 -->\n",
       "<g id=\"edge2\" class=\"edge\">\n",
       "<title>1&#45;&gt;3</title>\n",
       "<path fill=\"none\" stroke=\"black\" d=\"M145.74,-110.7C129.43,-96.31 110.39,-79.52 94.09,-65.15\"/>\n",
       "<polygon fill=\"black\" stroke=\"black\" points=\"96.8,-62.87 86.98,-58.88 92.17,-68.12 96.8,-62.87\"/>\n",
       "</g>\n",
       "<!-- 4 -->\n",
       "<g id=\"node4\" class=\"node\">\n",
       "<title>4</title>\n",
       "<path fill=\"#fffdfb\" stroke=\"black\" d=\"M232,-57.5C232,-57.5 143,-57.5 143,-57.5 137,-57.5 131,-51.5 131,-45.5 131,-45.5 131,-16.5 131,-16.5 131,-10.5 137,-4.5 143,-4.5 143,-4.5 232,-4.5 232,-4.5 238,-4.5 244,-10.5 244,-16.5 244,-16.5 244,-45.5 244,-45.5 244,-51.5 238,-57.5 232,-57.5\"/>\n",
       "<text text-anchor=\"start\" x=\"158.5\" y=\"-42.3\" font-family=\"Helvetica,sans-Serif\" font-size=\"14.00\">gini = 0.5</text>\n",
       "<text text-anchor=\"start\" x=\"140\" y=\"-27.3\" font-family=\"Helvetica,sans-Serif\" font-size=\"14.00\">samples = 109</text>\n",
       "<text text-anchor=\"start\" x=\"139\" y=\"-12.3\" font-family=\"Helvetica,sans-Serif\" font-size=\"14.00\">value = [55, 54]</text>\n",
       "</g>\n",
       "<!-- 1&#45;&gt;4 -->\n",
       "<g id=\"edge3\" class=\"edge\">\n",
       "<title>1&#45;&gt;4</title>\n",
       "<path fill=\"none\" stroke=\"black\" d=\"M184.69,-110.7C185.16,-97.63 185.69,-82.58 186.17,-69.16\"/>\n",
       "<polygon fill=\"black\" stroke=\"black\" points=\"189.66,-69.51 186.52,-59.4 182.67,-69.26 189.66,-69.51\"/>\n",
       "</g>\n",
       "<!-- 5 -->\n",
       "<g id=\"node6\" class=\"node\">\n",
       "<title>5</title>\n",
       "<path fill=\"#88c4ef\" stroke=\"black\" d=\"M361,-57.5C361,-57.5 280,-57.5 280,-57.5 274,-57.5 268,-51.5 268,-45.5 268,-45.5 268,-16.5 268,-16.5 268,-10.5 274,-4.5 280,-4.5 280,-4.5 361,-4.5 361,-4.5 367,-4.5 373,-10.5 373,-16.5 373,-16.5 373,-45.5 373,-45.5 373,-51.5 367,-57.5 361,-57.5\"/>\n",
       "<text text-anchor=\"start\" x=\"287\" y=\"-42.3\" font-family=\"Helvetica,sans-Serif\" font-size=\"14.00\">gini = 0.41</text>\n",
       "<text text-anchor=\"start\" x=\"277\" y=\"-27.3\" font-family=\"Helvetica,sans-Serif\" font-size=\"14.00\">samples = 21</text>\n",
       "<text text-anchor=\"start\" x=\"276\" y=\"-12.3\" font-family=\"Helvetica,sans-Serif\" font-size=\"14.00\">value = [6, 15]</text>\n",
       "</g>\n",
       "<!-- 2&#45;&gt;5 -->\n",
       "<g id=\"edge5\" class=\"edge\">\n",
       "<title>2&#45;&gt;5</title>\n",
       "<path fill=\"none\" stroke=\"black\" d=\"M322.61,-110.7C322.26,-97.63 321.85,-82.58 321.5,-69.16\"/>\n",
       "<polygon fill=\"black\" stroke=\"black\" points=\"325,-69.3 321.23,-59.4 318,-69.49 325,-69.3\"/>\n",
       "</g>\n",
       "<!-- 6 -->\n",
       "<g id=\"node7\" class=\"node\">\n",
       "<title>6</title>\n",
       "<path fill=\"#ea995f\" stroke=\"black\" d=\"M501.5,-57.5C501.5,-57.5 403.5,-57.5 403.5,-57.5 397.5,-57.5 391.5,-51.5 391.5,-45.5 391.5,-45.5 391.5,-16.5 391.5,-16.5 391.5,-10.5 397.5,-4.5 403.5,-4.5 403.5,-4.5 501.5,-4.5 501.5,-4.5 507.5,-4.5 513.5,-10.5 513.5,-16.5 513.5,-16.5 513.5,-45.5 513.5,-45.5 513.5,-51.5 507.5,-57.5 501.5,-57.5\"/>\n",
       "<text text-anchor=\"start\" x=\"419\" y=\"-42.3\" font-family=\"Helvetica,sans-Serif\" font-size=\"14.00\">gini = 0.27</text>\n",
       "<text text-anchor=\"start\" x=\"405\" y=\"-27.3\" font-family=\"Helvetica,sans-Serif\" font-size=\"14.00\">samples = 418</text>\n",
       "<text text-anchor=\"start\" x=\"399.5\" y=\"-12.3\" font-family=\"Helvetica,sans-Serif\" font-size=\"14.00\">value = [350, 68]</text>\n",
       "</g>\n",
       "<!-- 2&#45;&gt;6 -->\n",
       "<g id=\"edge6\" class=\"edge\">\n",
       "<title>2&#45;&gt;6</title>\n",
       "<path fill=\"none\" stroke=\"black\" d=\"M361.85,-110.7C378.43,-96.31 397.77,-79.52 414.32,-65.15\"/>\n",
       "<polygon fill=\"black\" stroke=\"black\" points=\"416.29,-68.07 421.55,-58.88 411.7,-62.79 416.29,-68.07\"/>\n",
       "</g>\n",
       "</g>\n",
       "</svg>\n"
      ],
      "text/plain": [
       "<graphviz.sources.Source at 0x249aeb5d6a0>"
      ]
     },
     "execution_count": 36,
     "metadata": {},
     "output_type": "execute_result"
    }
   ],
   "source": [
    "draw_tree(m, trn_xs, size=10)"
   ]
  },
  {
   "cell_type": "code",
   "execution_count": 37,
   "id": "3e3e6b4d",
   "metadata": {},
   "outputs": [],
   "source": [
    "#bad idea to be a adult male in titanic\n",
    "#in females pclass less than 2.5 , 116 of them survived\n",
    "#gini is a way to see how good the split is , lesser the gini better it is, 2nd leaf node is 5050 so it is bad\n",
    "def gini(cond):\n",
    "    act = df.loc[cond, dep]\n",
    "    return 1 - act.mean()**2 - (1-act).mean()**2"
   ]
  },
  {
   "cell_type": "code",
   "execution_count": 38,
   "id": "55f8b670",
   "metadata": {},
   "outputs": [
    {
     "data": {
      "text/plain": [
       "(0.3828350034484158, 0.3064437162277842)"
      ]
     },
     "execution_count": 38,
     "metadata": {},
     "output_type": "execute_result"
    }
   ],
   "source": [
    "gini(df.Sex=='female'), gini(df.Sex=='male')"
   ]
  },
  {
   "cell_type": "code",
   "execution_count": 39,
   "id": "59d2ee34",
   "metadata": {},
   "outputs": [
    {
     "data": {
      "text/plain": [
       "0.2242152466367713"
      ]
     },
     "execution_count": 39,
     "metadata": {},
     "output_type": "execute_result"
    }
   ],
   "source": [
    "# for one-r error was 0.215\n",
    "mean_absolute_error(val_y, m.predict(val_xs)) #loss for the descision tree with 4 leaf nodes"
   ]
  },
  {
   "cell_type": "code",
   "execution_count": 40,
   "id": "36020824",
   "metadata": {},
   "outputs": [
    {
     "data": {
      "image/svg+xml": [
       "<?xml version=\"1.0\" encoding=\"UTF-8\" standalone=\"no\"?>\n",
       "<!DOCTYPE svg PUBLIC \"-//W3C//DTD SVG 1.1//EN\"\n",
       " \"http://www.w3.org/Graphics/SVG/1.1/DTD/svg11.dtd\">\n",
       "<!-- Generated by graphviz version 7.1.0 (20230121.1956)\n",
       " -->\n",
       "<!-- Title: Tree Pages: 1 -->\n",
       "<svg width=\"864pt\" height=\"521pt\"\n",
       " viewBox=\"0.00 0.00 864.00 520.83\" xmlns=\"http://www.w3.org/2000/svg\" xmlns:xlink=\"http://www.w3.org/1999/xlink\">\n",
       "<g id=\"graph0\" class=\"graph\" transform=\"scale(0.76034 0.76034) rotate(0) translate(4 681)\">\n",
       "<title>Tree</title>\n",
       "<polygon fill=\"white\" stroke=\"none\" points=\"-4,4 -4,-681 1132.33,-681 1132.33,4 -4,4\"/>\n",
       "<!-- 0 -->\n",
       "<g id=\"node1\" class=\"node\">\n",
       "<title>0</title>\n",
       "<path fill=\"#f5ceb2\" stroke=\"black\" d=\"M597.63,-677C597.63,-677 491.63,-677 491.63,-677 485.63,-677 479.63,-671 479.63,-665 479.63,-665 479.63,-621 479.63,-621 479.63,-615 485.63,-609 491.63,-609 491.63,-609 597.63,-609 597.63,-609 603.63,-609 609.63,-615 609.63,-621 609.63,-621 609.63,-665 609.63,-665 609.63,-671 603.63,-677 597.63,-677\"/>\n",
       "<text text-anchor=\"start\" x=\"514.13\" y=\"-661.8\" font-family=\"Helvetica,sans-Serif\" font-size=\"14.00\">Sex ≤ 0.5</text>\n",
       "<text text-anchor=\"start\" x=\"511.13\" y=\"-646.8\" font-family=\"Helvetica,sans-Serif\" font-size=\"14.00\">gini = 0.47</text>\n",
       "<text text-anchor=\"start\" x=\"497.13\" y=\"-631.8\" font-family=\"Helvetica,sans-Serif\" font-size=\"14.00\">samples = 668</text>\n",
       "<text text-anchor=\"start\" x=\"487.63\" y=\"-616.8\" font-family=\"Helvetica,sans-Serif\" font-size=\"14.00\">value = [415, 253]</text>\n",
       "</g>\n",
       "<!-- 1 -->\n",
       "<g id=\"node2\" class=\"node\">\n",
       "<title>1</title>\n",
       "<path fill=\"#7ebfee\" stroke=\"black\" d=\"M451.63,-573C451.63,-573 353.63,-573 353.63,-573 347.63,-573 341.63,-567 341.63,-561 341.63,-561 341.63,-517 341.63,-517 341.63,-511 347.63,-505 353.63,-505 353.63,-505 451.63,-505 451.63,-505 457.63,-505 463.63,-511 463.63,-517 463.63,-517 463.63,-561 463.63,-561 463.63,-567 457.63,-573 451.63,-573\"/>\n",
       "<text text-anchor=\"start\" x=\"363.13\" y=\"-557.8\" font-family=\"Helvetica,sans-Serif\" font-size=\"14.00\">Pclass ≤ 2.5</text>\n",
       "<text text-anchor=\"start\" x=\"369.13\" y=\"-542.8\" font-family=\"Helvetica,sans-Serif\" font-size=\"14.00\">gini = 0.38</text>\n",
       "<text text-anchor=\"start\" x=\"355.13\" y=\"-527.8\" font-family=\"Helvetica,sans-Serif\" font-size=\"14.00\">samples = 229</text>\n",
       "<text text-anchor=\"start\" x=\"349.63\" y=\"-512.8\" font-family=\"Helvetica,sans-Serif\" font-size=\"14.00\">value = [59, 170]</text>\n",
       "</g>\n",
       "<!-- 0&#45;&gt;1 -->\n",
       "<g id=\"edge1\" class=\"edge\">\n",
       "<title>0&#45;&gt;1</title>\n",
       "<path fill=\"none\" stroke=\"black\" d=\"M498.13,-608.6C485.38,-599.44 471.43,-589.42 458.23,-579.94\"/>\n",
       "<polygon fill=\"black\" stroke=\"black\" points=\"460.62,-577.35 450.46,-574.36 456.54,-583.03 460.62,-577.35\"/>\n",
       "<text text-anchor=\"middle\" x=\"453.27\" y=\"-594.44\" font-family=\"Helvetica,sans-Serif\" font-size=\"14.00\">True</text>\n",
       "</g>\n",
       "<!-- 8 -->\n",
       "<g id=\"node9\" class=\"node\">\n",
       "<title>8</title>\n",
       "<path fill=\"#eb9e67\" stroke=\"black\" d=\"M745.63,-573C745.63,-573 647.63,-573 647.63,-573 641.63,-573 635.63,-567 635.63,-561 635.63,-561 635.63,-517 635.63,-517 635.63,-511 641.63,-505 647.63,-505 647.63,-505 745.63,-505 745.63,-505 751.63,-505 757.63,-511 757.63,-517 757.63,-517 757.63,-561 757.63,-561 757.63,-567 751.63,-573 745.63,-573\"/>\n",
       "<text text-anchor=\"start\" x=\"647.63\" y=\"-557.8\" font-family=\"Helvetica,sans-Serif\" font-size=\"14.00\">LogFare ≤ 3.31</text>\n",
       "<text text-anchor=\"start\" x=\"663.13\" y=\"-542.8\" font-family=\"Helvetica,sans-Serif\" font-size=\"14.00\">gini = 0.31</text>\n",
       "<text text-anchor=\"start\" x=\"649.13\" y=\"-527.8\" font-family=\"Helvetica,sans-Serif\" font-size=\"14.00\">samples = 439</text>\n",
       "<text text-anchor=\"start\" x=\"643.63\" y=\"-512.8\" font-family=\"Helvetica,sans-Serif\" font-size=\"14.00\">value = [356, 83]</text>\n",
       "</g>\n",
       "<!-- 0&#45;&gt;8 -->\n",
       "<g id=\"edge8\" class=\"edge\">\n",
       "<title>0&#45;&gt;8</title>\n",
       "<path fill=\"none\" stroke=\"black\" d=\"M594.4,-608.6C608.18,-599.36 623.27,-589.23 637.52,-579.66\"/>\n",
       "<polygon fill=\"black\" stroke=\"black\" points=\"639.13,-582.8 645.49,-574.32 635.23,-576.98 639.13,-582.8\"/>\n",
       "<text text-anchor=\"middle\" x=\"641.92\" y=\"-594.3\" font-family=\"Helvetica,sans-Serif\" font-size=\"14.00\">False</text>\n",
       "</g>\n",
       "<!-- 2 -->\n",
       "<g id=\"node3\" class=\"node\">\n",
       "<title>2</title>\n",
       "<path fill=\"#40a0e6\" stroke=\"black\" d=\"M238.13,-469C238.13,-469 149.13,-469 149.13,-469 143.13,-469 137.13,-463 137.13,-457 137.13,-457 137.13,-413 137.13,-413 137.13,-407 143.13,-401 149.13,-401 149.13,-401 238.13,-401 238.13,-401 244.13,-401 250.13,-407 250.13,-413 250.13,-413 250.13,-457 250.13,-457 250.13,-463 244.13,-469 238.13,-469\"/>\n",
       "<text text-anchor=\"start\" x=\"156.13\" y=\"-453.8\" font-family=\"Helvetica,sans-Serif\" font-size=\"14.00\">SibSp ≤ 0.5</text>\n",
       "<text text-anchor=\"start\" x=\"160.13\" y=\"-438.8\" font-family=\"Helvetica,sans-Serif\" font-size=\"14.00\">gini = 0.06</text>\n",
       "<text text-anchor=\"start\" x=\"146.13\" y=\"-423.8\" font-family=\"Helvetica,sans-Serif\" font-size=\"14.00\">samples = 120</text>\n",
       "<text text-anchor=\"start\" x=\"145.13\" y=\"-408.8\" font-family=\"Helvetica,sans-Serif\" font-size=\"14.00\">value = [4, 116]</text>\n",
       "</g>\n",
       "<!-- 1&#45;&gt;2 -->\n",
       "<g id=\"edge2\" class=\"edge\">\n",
       "<title>1&#45;&gt;2</title>\n",
       "<path fill=\"none\" stroke=\"black\" d=\"M341.33,-508.09C316.03,-495.73 286.61,-481.38 260.73,-468.75\"/>\n",
       "<polygon fill=\"black\" stroke=\"black\" points=\"262.51,-465.72 251.99,-464.48 259.44,-472.01 262.51,-465.72\"/>\n",
       "</g>\n",
       "<!-- 5 -->\n",
       "<g id=\"node6\" class=\"node\">\n",
       "<title>5</title>\n",
       "<path fill=\"#fffdfb\" stroke=\"black\" d=\"M447.13,-469C447.13,-469 358.13,-469 358.13,-469 352.13,-469 346.13,-463 346.13,-457 346.13,-457 346.13,-413 346.13,-413 346.13,-407 352.13,-401 358.13,-401 358.13,-401 447.13,-401 447.13,-401 453.13,-401 459.13,-407 459.13,-413 459.13,-413 459.13,-457 459.13,-457 459.13,-463 453.13,-469 447.13,-469\"/>\n",
       "<text text-anchor=\"start\" x=\"357.63\" y=\"-453.8\" font-family=\"Helvetica,sans-Serif\" font-size=\"14.00\">LogFare ≤ 2.7</text>\n",
       "<text text-anchor=\"start\" x=\"373.63\" y=\"-438.8\" font-family=\"Helvetica,sans-Serif\" font-size=\"14.00\">gini = 0.5</text>\n",
       "<text text-anchor=\"start\" x=\"355.13\" y=\"-423.8\" font-family=\"Helvetica,sans-Serif\" font-size=\"14.00\">samples = 109</text>\n",
       "<text text-anchor=\"start\" x=\"354.13\" y=\"-408.8\" font-family=\"Helvetica,sans-Serif\" font-size=\"14.00\">value = [55, 54]</text>\n",
       "</g>\n",
       "<!-- 1&#45;&gt;5 -->\n",
       "<g id=\"edge5\" class=\"edge\">\n",
       "<title>1&#45;&gt;5</title>\n",
       "<path fill=\"none\" stroke=\"black\" d=\"M402.63,-504.6C402.63,-497.03 402.63,-488.87 402.63,-480.9\"/>\n",
       "<polygon fill=\"black\" stroke=\"black\" points=\"406.13,-480.99 402.63,-470.99 399.13,-480.99 406.13,-480.99\"/>\n",
       "</g>\n",
       "<!-- 3 -->\n",
       "<g id=\"node4\" class=\"node\">\n",
       "<title>3</title>\n",
       "<path fill=\"#3c9ee5\" stroke=\"black\" d=\"M98.13,-357.5C98.13,-357.5 17.13,-357.5 17.13,-357.5 11.13,-357.5 5.13,-351.5 5.13,-345.5 5.13,-345.5 5.13,-316.5 5.13,-316.5 5.13,-310.5 11.13,-304.5 17.13,-304.5 17.13,-304.5 98.13,-304.5 98.13,-304.5 104.13,-304.5 110.13,-310.5 110.13,-316.5 110.13,-316.5 110.13,-345.5 110.13,-345.5 110.13,-351.5 104.13,-357.5 98.13,-357.5\"/>\n",
       "<text text-anchor=\"start\" x=\"24.13\" y=\"-342.3\" font-family=\"Helvetica,sans-Serif\" font-size=\"14.00\">gini = 0.03</text>\n",
       "<text text-anchor=\"start\" x=\"14.13\" y=\"-327.3\" font-family=\"Helvetica,sans-Serif\" font-size=\"14.00\">samples = 67</text>\n",
       "<text text-anchor=\"start\" x=\"13.13\" y=\"-312.3\" font-family=\"Helvetica,sans-Serif\" font-size=\"14.00\">value = [1, 66]</text>\n",
       "</g>\n",
       "<!-- 2&#45;&gt;3 -->\n",
       "<g id=\"edge3\" class=\"edge\">\n",
       "<title>2&#45;&gt;3</title>\n",
       "<path fill=\"none\" stroke=\"black\" d=\"M149.1,-400.6C133.55,-388.94 116.15,-375.89 100.72,-364.32\"/>\n",
       "<polygon fill=\"black\" stroke=\"black\" points=\"103.21,-361.81 93.11,-358.61 99.01,-367.41 103.21,-361.81\"/>\n",
       "</g>\n",
       "<!-- 4 -->\n",
       "<g id=\"node5\" class=\"node\">\n",
       "<title>4</title>\n",
       "<path fill=\"#45a3e7\" stroke=\"black\" d=\"M234.13,-357.5C234.13,-357.5 153.13,-357.5 153.13,-357.5 147.13,-357.5 141.13,-351.5 141.13,-345.5 141.13,-345.5 141.13,-316.5 141.13,-316.5 141.13,-310.5 147.13,-304.5 153.13,-304.5 153.13,-304.5 234.13,-304.5 234.13,-304.5 240.13,-304.5 246.13,-310.5 246.13,-316.5 246.13,-316.5 246.13,-345.5 246.13,-345.5 246.13,-351.5 240.13,-357.5 234.13,-357.5\"/>\n",
       "<text text-anchor=\"start\" x=\"160.13\" y=\"-342.3\" font-family=\"Helvetica,sans-Serif\" font-size=\"14.00\">gini = 0.11</text>\n",
       "<text text-anchor=\"start\" x=\"150.13\" y=\"-327.3\" font-family=\"Helvetica,sans-Serif\" font-size=\"14.00\">samples = 53</text>\n",
       "<text text-anchor=\"start\" x=\"149.13\" y=\"-312.3\" font-family=\"Helvetica,sans-Serif\" font-size=\"14.00\">value = [3, 50]</text>\n",
       "</g>\n",
       "<!-- 2&#45;&gt;4 -->\n",
       "<g id=\"edge4\" class=\"edge\">\n",
       "<title>2&#45;&gt;4</title>\n",
       "<path fill=\"none\" stroke=\"black\" d=\"M193.63,-400.6C193.63,-390.47 193.63,-379.28 193.63,-368.93\"/>\n",
       "<polygon fill=\"black\" stroke=\"black\" points=\"197.13,-369.22 193.63,-359.22 190.13,-369.22 197.13,-369.22\"/>\n",
       "</g>\n",
       "<!-- 6 -->\n",
       "<g id=\"node7\" class=\"node\">\n",
       "<title>6</title>\n",
       "<path fill=\"#cbe5f8\" stroke=\"black\" d=\"M378.13,-357.5C378.13,-357.5 289.13,-357.5 289.13,-357.5 283.13,-357.5 277.13,-351.5 277.13,-345.5 277.13,-345.5 277.13,-316.5 277.13,-316.5 277.13,-310.5 283.13,-304.5 289.13,-304.5 289.13,-304.5 378.13,-304.5 378.13,-304.5 384.13,-304.5 390.13,-310.5 390.13,-316.5 390.13,-316.5 390.13,-345.5 390.13,-345.5 390.13,-351.5 384.13,-357.5 378.13,-357.5\"/>\n",
       "<text text-anchor=\"start\" x=\"300.13\" y=\"-342.3\" font-family=\"Helvetica,sans-Serif\" font-size=\"14.00\">gini = 0.49</text>\n",
       "<text text-anchor=\"start\" x=\"290.13\" y=\"-327.3\" font-family=\"Helvetica,sans-Serif\" font-size=\"14.00\">samples = 59</text>\n",
       "<text text-anchor=\"start\" x=\"285.13\" y=\"-312.3\" font-family=\"Helvetica,sans-Serif\" font-size=\"14.00\">value = [25, 34]</text>\n",
       "</g>\n",
       "<!-- 5&#45;&gt;6 -->\n",
       "<g id=\"edge6\" class=\"edge\">\n",
       "<title>5&#45;&gt;6</title>\n",
       "<path fill=\"none\" stroke=\"black\" d=\"M380.03,-400.6C372.74,-389.82 364.63,-377.83 357.26,-366.94\"/>\n",
       "<polygon fill=\"black\" stroke=\"black\" points=\"360.37,-365.28 351.86,-358.96 354.57,-369.2 360.37,-365.28\"/>\n",
       "</g>\n",
       "<!-- 7 -->\n",
       "<g id=\"node8\" class=\"node\">\n",
       "<title>7</title>\n",
       "<path fill=\"#f6d5bd\" stroke=\"black\" d=\"M522.13,-357.5C522.13,-357.5 433.13,-357.5 433.13,-357.5 427.13,-357.5 421.13,-351.5 421.13,-345.5 421.13,-345.5 421.13,-316.5 421.13,-316.5 421.13,-310.5 427.13,-304.5 433.13,-304.5 433.13,-304.5 522.13,-304.5 522.13,-304.5 528.13,-304.5 534.13,-310.5 534.13,-316.5 534.13,-316.5 534.13,-345.5 534.13,-345.5 534.13,-351.5 528.13,-357.5 522.13,-357.5\"/>\n",
       "<text text-anchor=\"start\" x=\"444.13\" y=\"-342.3\" font-family=\"Helvetica,sans-Serif\" font-size=\"14.00\">gini = 0.48</text>\n",
       "<text text-anchor=\"start\" x=\"434.13\" y=\"-327.3\" font-family=\"Helvetica,sans-Serif\" font-size=\"14.00\">samples = 50</text>\n",
       "<text text-anchor=\"start\" x=\"429.13\" y=\"-312.3\" font-family=\"Helvetica,sans-Serif\" font-size=\"14.00\">value = [30, 20]</text>\n",
       "</g>\n",
       "<!-- 5&#45;&gt;7 -->\n",
       "<g id=\"edge7\" class=\"edge\">\n",
       "<title>5&#45;&gt;7</title>\n",
       "<path fill=\"none\" stroke=\"black\" d=\"M427.19,-400.6C435.12,-389.82 443.93,-377.83 451.94,-366.94\"/>\n",
       "<polygon fill=\"black\" stroke=\"black\" points=\"454.73,-369.06 457.83,-358.93 449.09,-364.91 454.73,-369.06\"/>\n",
       "</g>\n",
       "<!-- 9 -->\n",
       "<g id=\"node10\" class=\"node\">\n",
       "<title>9</title>\n",
       "<path fill=\"#e99659\" stroke=\"black\" d=\"M745.63,-469C745.63,-469 647.63,-469 647.63,-469 641.63,-469 635.63,-463 635.63,-457 635.63,-457 635.63,-413 635.63,-413 635.63,-407 641.63,-401 647.63,-401 647.63,-401 745.63,-401 745.63,-401 751.63,-401 757.63,-407 757.63,-413 757.63,-413 757.63,-457 757.63,-457 757.63,-463 751.63,-469 745.63,-469\"/>\n",
       "<text text-anchor=\"start\" x=\"661.63\" y=\"-453.8\" font-family=\"Helvetica,sans-Serif\" font-size=\"14.00\">Age ≤ 20.5</text>\n",
       "<text text-anchor=\"start\" x=\"663.13\" y=\"-438.8\" font-family=\"Helvetica,sans-Serif\" font-size=\"14.00\">gini = 0.24</text>\n",
       "<text text-anchor=\"start\" x=\"649.13\" y=\"-423.8\" font-family=\"Helvetica,sans-Serif\" font-size=\"14.00\">samples = 320</text>\n",
       "<text text-anchor=\"start\" x=\"643.63\" y=\"-408.8\" font-family=\"Helvetica,sans-Serif\" font-size=\"14.00\">value = [275, 45]</text>\n",
       "</g>\n",
       "<!-- 8&#45;&gt;9 -->\n",
       "<g id=\"edge9\" class=\"edge\">\n",
       "<title>8&#45;&gt;9</title>\n",
       "<path fill=\"none\" stroke=\"black\" d=\"M696.63,-504.6C696.63,-497.03 696.63,-488.87 696.63,-480.9\"/>\n",
       "<polygon fill=\"black\" stroke=\"black\" points=\"700.13,-480.99 696.63,-470.99 693.13,-480.99 700.13,-480.99\"/>\n",
       "</g>\n",
       "<!-- 18 -->\n",
       "<g id=\"node19\" class=\"node\">\n",
       "<title>18</title>\n",
       "<path fill=\"#f1bc96\" stroke=\"black\" d=\"M966.13,-469C966.13,-469 877.13,-469 877.13,-469 871.13,-469 865.13,-463 865.13,-457 865.13,-457 865.13,-413 865.13,-413 865.13,-407 871.13,-401 877.13,-401 877.13,-401 966.13,-401 966.13,-401 972.13,-401 978.13,-407 978.13,-413 978.13,-413 978.13,-457 978.13,-457 978.13,-463 972.13,-469 966.13,-469\"/>\n",
       "<text text-anchor=\"start\" x=\"884.13\" y=\"-453.8\" font-family=\"Helvetica,sans-Serif\" font-size=\"14.00\">SibSp ≤ 0.5</text>\n",
       "<text text-anchor=\"start\" x=\"888.13\" y=\"-438.8\" font-family=\"Helvetica,sans-Serif\" font-size=\"14.00\">gini = 0.43</text>\n",
       "<text text-anchor=\"start\" x=\"874.13\" y=\"-423.8\" font-family=\"Helvetica,sans-Serif\" font-size=\"14.00\">samples = 119</text>\n",
       "<text text-anchor=\"start\" x=\"873.13\" y=\"-408.8\" font-family=\"Helvetica,sans-Serif\" font-size=\"14.00\">value = [81, 38]</text>\n",
       "</g>\n",
       "<!-- 8&#45;&gt;18 -->\n",
       "<g id=\"edge18\" class=\"edge\">\n",
       "<title>8&#45;&gt;18</title>\n",
       "<path fill=\"none\" stroke=\"black\" d=\"M758.11,-510.13C788.04,-496.56 824.07,-480.22 854.69,-466.34\"/>\n",
       "<polygon fill=\"black\" stroke=\"black\" points=\"855.81,-469.68 863.47,-462.36 852.92,-463.31 855.81,-469.68\"/>\n",
       "</g>\n",
       "<!-- 10 -->\n",
       "<g id=\"node11\" class=\"node\">\n",
       "<title>10</title>\n",
       "<path fill=\"#f1b992\" stroke=\"black\" d=\"M666.13,-357.5C666.13,-357.5 577.13,-357.5 577.13,-357.5 571.13,-357.5 565.13,-351.5 565.13,-345.5 565.13,-345.5 565.13,-316.5 565.13,-316.5 565.13,-310.5 571.13,-304.5 577.13,-304.5 577.13,-304.5 666.13,-304.5 666.13,-304.5 672.13,-304.5 678.13,-310.5 678.13,-316.5 678.13,-316.5 678.13,-345.5 678.13,-345.5 678.13,-351.5 672.13,-357.5 666.13,-357.5\"/>\n",
       "<text text-anchor=\"start\" x=\"588.13\" y=\"-342.3\" font-family=\"Helvetica,sans-Serif\" font-size=\"14.00\">gini = 0.43</text>\n",
       "<text text-anchor=\"start\" x=\"578.13\" y=\"-327.3\" font-family=\"Helvetica,sans-Serif\" font-size=\"14.00\">samples = 55</text>\n",
       "<text text-anchor=\"start\" x=\"573.13\" y=\"-312.3\" font-family=\"Helvetica,sans-Serif\" font-size=\"14.00\">value = [38, 17]</text>\n",
       "</g>\n",
       "<!-- 9&#45;&gt;10 -->\n",
       "<g id=\"edge10\" class=\"edge\">\n",
       "<title>9&#45;&gt;10</title>\n",
       "<path fill=\"none\" stroke=\"black\" d=\"M672.07,-400.6C664.14,-389.82 655.33,-377.83 647.32,-366.94\"/>\n",
       "<polygon fill=\"black\" stroke=\"black\" points=\"650.17,-364.91 641.43,-358.93 644.53,-369.06 650.17,-364.91\"/>\n",
       "</g>\n",
       "<!-- 11 -->\n",
       "<g id=\"node12\" class=\"node\">\n",
       "<title>11</title>\n",
       "<path fill=\"#e89050\" stroke=\"black\" d=\"M820.63,-365C820.63,-365 722.63,-365 722.63,-365 716.63,-365 710.63,-359 710.63,-353 710.63,-353 710.63,-309 710.63,-309 710.63,-303 716.63,-297 722.63,-297 722.63,-297 820.63,-297 820.63,-297 826.63,-297 832.63,-303 832.63,-309 832.63,-309 832.63,-353 832.63,-353 832.63,-359 826.63,-365 820.63,-365\"/>\n",
       "<text text-anchor=\"start\" x=\"736.63\" y=\"-349.8\" font-family=\"Helvetica,sans-Serif\" font-size=\"14.00\">Age ≤ 32.5</text>\n",
       "<text text-anchor=\"start\" x=\"738.13\" y=\"-334.8\" font-family=\"Helvetica,sans-Serif\" font-size=\"14.00\">gini = 0.19</text>\n",
       "<text text-anchor=\"start\" x=\"724.13\" y=\"-319.8\" font-family=\"Helvetica,sans-Serif\" font-size=\"14.00\">samples = 265</text>\n",
       "<text text-anchor=\"start\" x=\"718.63\" y=\"-304.8\" font-family=\"Helvetica,sans-Serif\" font-size=\"14.00\">value = [237, 28]</text>\n",
       "</g>\n",
       "<!-- 9&#45;&gt;11 -->\n",
       "<g id=\"edge11\" class=\"edge\">\n",
       "<title>9&#45;&gt;11</title>\n",
       "<path fill=\"none\" stroke=\"black\" d=\"M721.19,-400.6C727.27,-392.32 733.88,-383.34 740.24,-374.69\"/>\n",
       "<polygon fill=\"black\" stroke=\"black\" points=\"743.01,-376.82 746.12,-366.69 737.37,-372.68 743.01,-376.82\"/>\n",
       "</g>\n",
       "<!-- 12 -->\n",
       "<g id=\"node13\" class=\"node\">\n",
       "<title>12</title>\n",
       "<path fill=\"#e99356\" stroke=\"black\" d=\"M748.63,-261C748.63,-261 650.63,-261 650.63,-261 644.63,-261 638.63,-255 638.63,-249 638.63,-249 638.63,-205 638.63,-205 638.63,-199 644.63,-193 650.63,-193 650.63,-193 748.63,-193 748.63,-193 754.63,-193 760.63,-199 760.63,-205 760.63,-205 760.63,-249 760.63,-249 760.63,-255 754.63,-261 748.63,-261\"/>\n",
       "<text text-anchor=\"start\" x=\"660.13\" y=\"-245.8\" font-family=\"Helvetica,sans-Serif\" font-size=\"14.00\">Age ≤ 24.75</text>\n",
       "<text text-anchor=\"start\" x=\"666.13\" y=\"-230.8\" font-family=\"Helvetica,sans-Serif\" font-size=\"14.00\">gini = 0.22</text>\n",
       "<text text-anchor=\"start\" x=\"652.13\" y=\"-215.8\" font-family=\"Helvetica,sans-Serif\" font-size=\"14.00\">samples = 181</text>\n",
       "<text text-anchor=\"start\" x=\"646.63\" y=\"-200.8\" font-family=\"Helvetica,sans-Serif\" font-size=\"14.00\">value = [158, 23]</text>\n",
       "</g>\n",
       "<!-- 11&#45;&gt;12 -->\n",
       "<g id=\"edge12\" class=\"edge\">\n",
       "<title>11&#45;&gt;12</title>\n",
       "<path fill=\"none\" stroke=\"black\" d=\"M748.05,-296.6C742.21,-288.32 735.87,-279.34 729.76,-270.69\"/>\n",
       "<polygon fill=\"black\" stroke=\"black\" points=\"732.76,-268.86 724.13,-262.71 727.04,-272.9 732.76,-268.86\"/>\n",
       "</g>\n",
       "<!-- 17 -->\n",
       "<g id=\"node18\" class=\"node\">\n",
       "<title>17</title>\n",
       "<path fill=\"#e78946\" stroke=\"black\" d=\"M885.13,-253.5C885.13,-253.5 804.13,-253.5 804.13,-253.5 798.13,-253.5 792.13,-247.5 792.13,-241.5 792.13,-241.5 792.13,-212.5 792.13,-212.5 792.13,-206.5 798.13,-200.5 804.13,-200.5 804.13,-200.5 885.13,-200.5 885.13,-200.5 891.13,-200.5 897.13,-206.5 897.13,-212.5 897.13,-212.5 897.13,-241.5 897.13,-241.5 897.13,-247.5 891.13,-253.5 885.13,-253.5\"/>\n",
       "<text text-anchor=\"start\" x=\"811.13\" y=\"-238.3\" font-family=\"Helvetica,sans-Serif\" font-size=\"14.00\">gini = 0.11</text>\n",
       "<text text-anchor=\"start\" x=\"801.13\" y=\"-223.3\" font-family=\"Helvetica,sans-Serif\" font-size=\"14.00\">samples = 84</text>\n",
       "<text text-anchor=\"start\" x=\"800.13\" y=\"-208.3\" font-family=\"Helvetica,sans-Serif\" font-size=\"14.00\">value = [79, 5]</text>\n",
       "</g>\n",
       "<!-- 11&#45;&gt;17 -->\n",
       "<g id=\"edge17\" class=\"edge\">\n",
       "<title>11&#45;&gt;17</title>\n",
       "<path fill=\"none\" stroke=\"black\" d=\"M795.53,-296.6C803.25,-285.82 811.82,-273.83 819.62,-262.94\"/>\n",
       "<polygon fill=\"black\" stroke=\"black\" points=\"822.38,-265.11 825.35,-254.94 816.68,-261.03 822.38,-265.11\"/>\n",
       "</g>\n",
       "<!-- 13 -->\n",
       "<g id=\"node14\" class=\"node\">\n",
       "<title>13</title>\n",
       "<path fill=\"#e88d4c\" stroke=\"black\" d=\"M673.63,-157C673.63,-157 575.63,-157 575.63,-157 569.63,-157 563.63,-151 563.63,-145 563.63,-145 563.63,-101 563.63,-101 563.63,-95 569.63,-89 575.63,-89 575.63,-89 673.63,-89 673.63,-89 679.63,-89 685.63,-95 685.63,-101 685.63,-101 685.63,-145 685.63,-145 685.63,-151 679.63,-157 673.63,-157\"/>\n",
       "<text text-anchor=\"start\" x=\"575.63\" y=\"-141.8\" font-family=\"Helvetica,sans-Serif\" font-size=\"14.00\">LogFare ≤ 2.18</text>\n",
       "<text text-anchor=\"start\" x=\"591.13\" y=\"-126.8\" font-family=\"Helvetica,sans-Serif\" font-size=\"14.00\">gini = 0.16</text>\n",
       "<text text-anchor=\"start\" x=\"577.13\" y=\"-111.8\" font-family=\"Helvetica,sans-Serif\" font-size=\"14.00\">samples = 114</text>\n",
       "<text text-anchor=\"start\" x=\"571.63\" y=\"-96.8\" font-family=\"Helvetica,sans-Serif\" font-size=\"14.00\">value = [104, 10]</text>\n",
       "</g>\n",
       "<!-- 12&#45;&gt;13 -->\n",
       "<g id=\"edge13\" class=\"edge\">\n",
       "<title>12&#45;&gt;13</title>\n",
       "<path fill=\"none\" stroke=\"black\" d=\"M675.07,-192.6C668.98,-184.32 662.38,-175.34 656.01,-166.69\"/>\n",
       "<polygon fill=\"black\" stroke=\"black\" points=\"658.88,-164.68 650.14,-158.69 653.24,-168.82 658.88,-164.68\"/>\n",
       "</g>\n",
       "<!-- 16 -->\n",
       "<g id=\"node17\" class=\"node\">\n",
       "<title>16</title>\n",
       "<path fill=\"#eb9f69\" stroke=\"black\" d=\"M818.13,-149.5C818.13,-149.5 729.13,-149.5 729.13,-149.5 723.13,-149.5 717.13,-143.5 717.13,-137.5 717.13,-137.5 717.13,-108.5 717.13,-108.5 717.13,-102.5 723.13,-96.5 729.13,-96.5 729.13,-96.5 818.13,-96.5 818.13,-96.5 824.13,-96.5 830.13,-102.5 830.13,-108.5 830.13,-108.5 830.13,-137.5 830.13,-137.5 830.13,-143.5 824.13,-149.5 818.13,-149.5\"/>\n",
       "<text text-anchor=\"start\" x=\"740.13\" y=\"-134.3\" font-family=\"Helvetica,sans-Serif\" font-size=\"14.00\">gini = 0.31</text>\n",
       "<text text-anchor=\"start\" x=\"730.13\" y=\"-119.3\" font-family=\"Helvetica,sans-Serif\" font-size=\"14.00\">samples = 67</text>\n",
       "<text text-anchor=\"start\" x=\"725.13\" y=\"-104.3\" font-family=\"Helvetica,sans-Serif\" font-size=\"14.00\">value = [54, 13]</text>\n",
       "</g>\n",
       "<!-- 12&#45;&gt;16 -->\n",
       "<g id=\"edge16\" class=\"edge\">\n",
       "<title>12&#45;&gt;16</title>\n",
       "<path fill=\"none\" stroke=\"black\" d=\"M723.86,-192.6C731.68,-181.82 740.37,-169.83 748.28,-158.94\"/>\n",
       "<polygon fill=\"black\" stroke=\"black\" points=\"751.05,-161.08 754.09,-150.93 745.38,-156.97 751.05,-161.08\"/>\n",
       "</g>\n",
       "<!-- 14 -->\n",
       "<g id=\"node15\" class=\"node\">\n",
       "<title>14</title>\n",
       "<path fill=\"#e99254\" stroke=\"black\" d=\"M597.13,-53.5C597.13,-53.5 516.13,-53.5 516.13,-53.5 510.13,-53.5 504.13,-47.5 504.13,-41.5 504.13,-41.5 504.13,-12.5 504.13,-12.5 504.13,-6.5 510.13,-0.5 516.13,-0.5 516.13,-0.5 597.13,-0.5 597.13,-0.5 603.13,-0.5 609.13,-6.5 609.13,-12.5 609.13,-12.5 609.13,-41.5 609.13,-41.5 609.13,-47.5 603.13,-53.5 597.13,-53.5\"/>\n",
       "<text text-anchor=\"start\" x=\"523.13\" y=\"-38.3\" font-family=\"Helvetica,sans-Serif\" font-size=\"14.00\">gini = 0.21</text>\n",
       "<text text-anchor=\"start\" x=\"513.13\" y=\"-23.3\" font-family=\"Helvetica,sans-Serif\" font-size=\"14.00\">samples = 50</text>\n",
       "<text text-anchor=\"start\" x=\"512.13\" y=\"-8.3\" font-family=\"Helvetica,sans-Serif\" font-size=\"14.00\">value = [44, 6]</text>\n",
       "</g>\n",
       "<!-- 13&#45;&gt;14 -->\n",
       "<g id=\"edge14\" class=\"edge\">\n",
       "<title>13&#45;&gt;14</title>\n",
       "<path fill=\"none\" stroke=\"black\" d=\"M600.46,-88.59C594.47,-80.31 588.03,-71.42 581.99,-63.06\"/>\n",
       "<polygon fill=\"black\" stroke=\"black\" points=\"584.96,-61.19 576.26,-55.14 579.28,-65.29 584.96,-61.19\"/>\n",
       "</g>\n",
       "<!-- 15 -->\n",
       "<g id=\"node16\" class=\"node\">\n",
       "<title>15</title>\n",
       "<path fill=\"#e78946\" stroke=\"black\" d=\"M733.13,-53.5C733.13,-53.5 652.13,-53.5 652.13,-53.5 646.13,-53.5 640.13,-47.5 640.13,-41.5 640.13,-41.5 640.13,-12.5 640.13,-12.5 640.13,-6.5 646.13,-0.5 652.13,-0.5 652.13,-0.5 733.13,-0.5 733.13,-0.5 739.13,-0.5 745.13,-6.5 745.13,-12.5 745.13,-12.5 745.13,-41.5 745.13,-41.5 745.13,-47.5 739.13,-53.5 733.13,-53.5\"/>\n",
       "<text text-anchor=\"start\" x=\"659.13\" y=\"-38.3\" font-family=\"Helvetica,sans-Serif\" font-size=\"14.00\">gini = 0.12</text>\n",
       "<text text-anchor=\"start\" x=\"649.13\" y=\"-23.3\" font-family=\"Helvetica,sans-Serif\" font-size=\"14.00\">samples = 64</text>\n",
       "<text text-anchor=\"start\" x=\"648.13\" y=\"-8.3\" font-family=\"Helvetica,sans-Serif\" font-size=\"14.00\">value = [60, 4]</text>\n",
       "</g>\n",
       "<!-- 13&#45;&gt;15 -->\n",
       "<g id=\"edge15\" class=\"edge\">\n",
       "<title>13&#45;&gt;15</title>\n",
       "<path fill=\"none\" stroke=\"black\" d=\"M648.79,-88.59C654.78,-80.31 661.22,-71.42 667.27,-63.06\"/>\n",
       "<polygon fill=\"black\" stroke=\"black\" points=\"669.97,-65.29 673,-55.14 664.3,-61.19 669.97,-65.29\"/>\n",
       "</g>\n",
       "<!-- 19 -->\n",
       "<g id=\"node20\" class=\"node\">\n",
       "<title>19</title>\n",
       "<path fill=\"#f6d5bd\" stroke=\"black\" d=\"M966.13,-357.5C966.13,-357.5 877.13,-357.5 877.13,-357.5 871.13,-357.5 865.13,-351.5 865.13,-345.5 865.13,-345.5 865.13,-316.5 865.13,-316.5 865.13,-310.5 871.13,-304.5 877.13,-304.5 877.13,-304.5 966.13,-304.5 966.13,-304.5 972.13,-304.5 978.13,-310.5 978.13,-316.5 978.13,-316.5 978.13,-345.5 978.13,-345.5 978.13,-351.5 972.13,-357.5 966.13,-357.5\"/>\n",
       "<text text-anchor=\"start\" x=\"888.13\" y=\"-342.3\" font-family=\"Helvetica,sans-Serif\" font-size=\"14.00\">gini = 0.48</text>\n",
       "<text text-anchor=\"start\" x=\"878.13\" y=\"-327.3\" font-family=\"Helvetica,sans-Serif\" font-size=\"14.00\">samples = 60</text>\n",
       "<text text-anchor=\"start\" x=\"873.13\" y=\"-312.3\" font-family=\"Helvetica,sans-Serif\" font-size=\"14.00\">value = [36, 24]</text>\n",
       "</g>\n",
       "<!-- 18&#45;&gt;19 -->\n",
       "<g id=\"edge19\" class=\"edge\">\n",
       "<title>18&#45;&gt;19</title>\n",
       "<path fill=\"none\" stroke=\"black\" d=\"M921.63,-400.6C921.63,-390.47 921.63,-379.28 921.63,-368.93\"/>\n",
       "<polygon fill=\"black\" stroke=\"black\" points=\"925.13,-369.22 921.63,-359.22 918.13,-369.22 925.13,-369.22\"/>\n",
       "</g>\n",
       "<!-- 20 -->\n",
       "<g id=\"node21\" class=\"node\">\n",
       "<title>20</title>\n",
       "<path fill=\"#eda877\" stroke=\"black\" d=\"M1110.13,-357.5C1110.13,-357.5 1021.13,-357.5 1021.13,-357.5 1015.13,-357.5 1009.13,-351.5 1009.13,-345.5 1009.13,-345.5 1009.13,-316.5 1009.13,-316.5 1009.13,-310.5 1015.13,-304.5 1021.13,-304.5 1021.13,-304.5 1110.13,-304.5 1110.13,-304.5 1116.13,-304.5 1122.13,-310.5 1122.13,-316.5 1122.13,-316.5 1122.13,-345.5 1122.13,-345.5 1122.13,-351.5 1116.13,-357.5 1110.13,-357.5\"/>\n",
       "<text text-anchor=\"start\" x=\"1032.13\" y=\"-342.3\" font-family=\"Helvetica,sans-Serif\" font-size=\"14.00\">gini = 0.36</text>\n",
       "<text text-anchor=\"start\" x=\"1022.13\" y=\"-327.3\" font-family=\"Helvetica,sans-Serif\" font-size=\"14.00\">samples = 59</text>\n",
       "<text text-anchor=\"start\" x=\"1017.13\" y=\"-312.3\" font-family=\"Helvetica,sans-Serif\" font-size=\"14.00\">value = [45, 14]</text>\n",
       "</g>\n",
       "<!-- 18&#45;&gt;20 -->\n",
       "<g id=\"edge20\" class=\"edge\">\n",
       "<title>18&#45;&gt;20</title>\n",
       "<path fill=\"none\" stroke=\"black\" d=\"M968.78,-400.6C985.23,-388.94 1003.66,-375.89 1020,-364.32\"/>\n",
       "<polygon fill=\"black\" stroke=\"black\" points=\"1021.96,-367.22 1028.1,-358.58 1017.92,-361.5 1021.96,-367.22\"/>\n",
       "</g>\n",
       "</g>\n",
       "</svg>\n"
      ],
      "text/plain": [
       "<graphviz.sources.Source at 0x249b3a36700>"
      ]
     },
     "execution_count": 40,
     "metadata": {},
     "output_type": "execute_result"
    }
   ],
   "source": [
    "m = DecisionTreeClassifier(min_samples_leaf=50) #minimum of 50 values in each leaf node\n",
    "m.fit(trn_xs, trn_y)\n",
    "draw_tree(m, trn_xs, size=12)"
   ]
  },
  {
   "cell_type": "code",
   "execution_count": 41,
   "id": "89279f39",
   "metadata": {},
   "outputs": [
    {
     "data": {
      "text/plain": [
       "0.18385650224215247"
      ]
     },
     "execution_count": 41,
     "metadata": {},
     "output_type": "execute_result"
    }
   ],
   "source": [
    "mean_absolute_error(val_y, m.predict(val_xs)) "
   ]
  },
  {
   "cell_type": "code",
   "execution_count": 42,
   "id": "36507988",
   "metadata": {},
   "outputs": [],
   "source": [
    "tst_df[cats] = tst_df[cats].apply(lambda x: x.cat.codes)\n",
    "tst_xs,_ = xs_y(tst_df)\n",
    "\n",
    "def subm(preds, suff):\n",
    "    tst_df['Survived'] = preds\n",
    "    sub_df = tst_df[['PassengerId','Survived']]\n",
    "    sub_df.to_csv(f'sub-{suff}.csv', index=False)\n",
    "\n",
    "subm(m.predict(tst_xs), 'tree') #SCORE IS LIL WORSE BUT WE DID NOT HAVE TO DO MORE PREPROCESSING HARD WORK IN DECISION TREES COMPARED TO OUR LINEAR AND NEURAL NETWORK MODELS"
   ]
  },
  {
   "cell_type": "code",
   "execution_count": 43,
   "id": "dd22b6cc",
   "metadata": {},
   "outputs": [],
   "source": [
    "#FOR TABULAR DATA DECISION TREES ARE VERY USEFUL"
   ]
  },
  {
   "cell_type": "code",
   "execution_count": 44,
   "id": "db29fbfc",
   "metadata": {},
   "outputs": [
    {
     "data": {
      "text/plain": [
       "0    S\n",
       "1    C\n",
       "2    S\n",
       "3    S\n",
       "4    S\n",
       "Name: Embarked, dtype: category\n",
       "Categories (3, object): ['C', 'Q', 'S']"
      ]
     },
     "execution_count": 44,
     "metadata": {},
     "output_type": "execute_result"
    }
   ],
   "source": [
    "df.Embarked.head()"
   ]
  },
  {
   "cell_type": "code",
   "execution_count": 45,
   "id": "94568436",
   "metadata": {},
   "outputs": [
    {
     "data": {
      "text/plain": [
       "0    2\n",
       "1    0\n",
       "2    2\n",
       "3    2\n",
       "4    2\n",
       "dtype: int8"
      ]
     },
     "execution_count": 45,
     "metadata": {},
     "output_type": "execute_result"
    }
   ],
   "source": [
    "df.Embarked.cat.codes.head()"
   ]
  },
  {
   "cell_type": "markdown",
   "id": "111b5da4",
   "metadata": {},
   "source": [
    "### HOW TO MAKE THIS MORE ACCURATE"
   ]
  },
  {
   "cell_type": "code",
   "execution_count": 46,
   "id": "56a74531",
   "metadata": {},
   "outputs": [],
   "source": [
    "#THERE ARE LIMITS TO WHAT A DECISION TREE COULD DO\n",
    "#WE CAN USE BAGGING\n",
    "#LETS SAY WE ARE USING NOT SO GOOD MODEL , WE CAN USE MAKE LOTS AND LOTS OF SLIGHTLY DIFFERENT DECISION TREES THEN IF WE AVERAGE THOSE ERRORS 0 WILL COME \n",
    "#MINDBLOWING INSIGHT\n"
   ]
  },
  {
   "cell_type": "markdown",
   "id": "530cd8eb",
   "metadata": {},
   "source": [
    "### RANDOM FOREST\n",
    "WE ARE CREATING BUNCH OF DECISION TREES USING DIFFERENT SUBSETS OF DATA "
   ]
  },
  {
   "cell_type": "code",
   "execution_count": 47,
   "id": "8eddb697",
   "metadata": {},
   "outputs": [],
   "source": [
    "def get_tree(prop=0.75):\n",
    "    n = len(trn_y)\n",
    "    idxs = random.choice(n, int(n*prop))\n",
    "    return DecisionTreeClassifier(min_samples_leaf=5).fit(trn_xs.iloc[idxs], trn_y.iloc[idxs])"
   ]
  },
  {
   "cell_type": "code",
   "execution_count": 48,
   "id": "aabbe663",
   "metadata": {},
   "outputs": [],
   "source": [
    "trees = [get_tree() for t in range(100)]"
   ]
  },
  {
   "cell_type": "code",
   "execution_count": 49,
   "id": "b5c38ccc",
   "metadata": {},
   "outputs": [
    {
     "data": {
      "text/plain": [
       "0.2272645739910314"
      ]
     },
     "execution_count": 49,
     "metadata": {},
     "output_type": "execute_result"
    }
   ],
   "source": [
    "all_probs = [t.predict(val_xs) for t in trees]\n",
    "avg_probs = np.stack(all_probs).mean(0)\n",
    "mean_absolute_error(val_y, avg_probs)"
   ]
  },
  {
   "cell_type": "code",
   "execution_count": 50,
   "id": "c3ffd9ad",
   "metadata": {},
   "outputs": [
    {
     "data": {
      "text/plain": [
       "0.18834080717488788"
      ]
     },
     "execution_count": 50,
     "metadata": {},
     "output_type": "execute_result"
    }
   ],
   "source": [
    "#THIS WAS IDENTICAL TO RANDOMFOREST CLASSIFIER OF SKLEARN\n",
    "from sklearn.ensemble import RandomForestClassifier\n",
    "rf = RandomForestClassifier(100, min_samples_leaf=5)\n",
    "rf.fit(trn_xs, trn_y);\n",
    "mean_absolute_error(val_y, rf.predict(val_xs))"
   ]
  },
  {
   "cell_type": "code",
   "execution_count": 51,
   "id": "9bd5e9e2",
   "metadata": {},
   "outputs": [],
   "source": [
    "subm(rf.predict(tst_xs), 'randforest') #slightly more worse but in ideal real world datasets, randomforest does a better job than single tree"
   ]
  },
  {
   "cell_type": "code",
   "execution_count": 52,
   "id": "f686c01d",
   "metadata": {},
   "outputs": [],
   "source": [
    "# One particularly nice feature of random forests is they can tell us which independent variables were the most important in the model, using feature_importances_:"
   ]
  },
  {
   "cell_type": "code",
   "execution_count": 53,
   "id": "8336dd0f",
   "metadata": {},
   "outputs": [
    {
     "data": {
      "image/png": "[encoded data removed]",
      "text/plain": [
       "<Figure size 432x288 with 1 Axes>"
      ]
     },
     "metadata": {
      "needs_background": "light"
     },
     "output_type": "display_data"
    }
   ],
   "source": [
    "pd.DataFrame(dict(cols=trn_xs.columns, imp=m.feature_importances_)).plot('cols', 'imp', 'barh');"
   ]
  },
  {
   "cell_type": "code",
   "execution_count": 54,
   "id": "205463d7",
   "metadata": {},
   "outputs": [],
   "source": [
    "# it shows which improved the gini most, for any dataset we can find the variable which is most important"
   ]
  },
  {
   "cell_type": "code",
   "execution_count": 55,
   "id": "b750ac4c",
   "metadata": {},
   "outputs": [],
   "source": [
    "#having more trees always improves accuracy tiny bits not more than 100 trees \n",
    "#always start  a tabular model with random forest"
   ]
  }
 ],
 "metadata": {
  "kernelspec": {
   "display_name": "Python 3 (ipykernel)",
   "language": "python",
   "name": "python3"
  },
  "language_info": {
   "codemirror_mode": {
    "name": "ipython",
    "version": 3
   },
   "file_extension": ".py",
   "mimetype": "text/x-python",
   "name": "python",
   "nbconvert_exporter": "python",
   "pygments_lexer": "ipython3",
   "version": "3.9.12"
  }
 },
 "nbformat": 4,
 "nbformat_minor": 5
}
