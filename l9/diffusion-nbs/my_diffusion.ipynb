{
 "cells": [
  {
   "cell_type": "code",
   "execution_count": 2,
   "id": "b6867f8e",
   "metadata": {},
   "outputs": [],
   "source": [
    "from pathlib import Path\n",
    "import matplotlib.pyplot as plt\n",
    "import torch\n",
    "from diffusers import StableDiffusionPipeline\n",
    "from fastcore.all import concat\n",
    "from huggingface_hub import notebook_login\n",
    "from PIL import Image"
   ]
  },
  {
   "cell_type": "code",
   "execution_count": 3,
   "id": "5e885a51",
   "metadata": {},
   "outputs": [
    {
     "data": {
      "application/vnd.jupyter.widget-view+json": {
       "model_id": "5e9de4c2c9d74fad8fb6a1f1de4b2652",
       "version_major": 2,
       "version_minor": 0
      },
      "text/plain": [
       "VBox(children=(HTML(value='<center> <img\\nsrc=https://huggingface.co/front/assets/huggingface_logo-noborder.sv…"
      ]
     },
     "metadata": {},
     "output_type": "display_data"
    }
   ],
   "source": [
    "torch.manual_seed(1)\n",
    "if not (Path.home()/'.huggingface'/'token').exists(): notebook_login()"
   ]
  },
  {
   "cell_type": "code",
   "execution_count": 4,
   "id": "5f8befb6",
   "metadata": {},
   "outputs": [],
   "source": [
    "torch.cuda.empty_cache()"
   ]
  },
  {
   "cell_type": "code",
   "execution_count": 8,
   "id": "8c2d9d31",
   "metadata": {},
   "outputs": [],
   "source": [
    "pipe = StableDiffusionPipeline.from_pretrained(\"CompVis/stable-diffusion-v1-4\",revision=\"fp16\",torch_dtype=torch.float32).to(\"cuda\")"
   ]
  },
  {
   "cell_type": "code",
   "execution_count": null,
   "id": "5d91c474",
   "metadata": {},
   "outputs": [],
   "source": [
    "pipe.enable_attention_slicing()"
   ]
  },
  {
   "cell_type": "code",
   "execution_count": null,
   "id": "9b56497b",
   "metadata": {},
   "outputs": [],
   "source": [
    "prompt = \"alien as an astronaut riding a horse\""
   ]
  },
  {
   "cell_type": "code",
   "execution_count": null,
   "id": "3699700d",
   "metadata": {},
   "outputs": [],
   "source": [
    "pipe(prompt).images[0]"
   ]
  },
  {
   "cell_type": "code",
   "execution_count": null,
   "id": "c04d1de5",
   "metadata": {},
   "outputs": [],
   "source": [
    "pipe(prompt, num_inference_steps=3).images[0] # you can pass the number of inference steps as the input"
   ]
  },
  {
   "cell_type": "code",
   "execution_count": null,
   "id": "60e62795",
   "metadata": {},
   "outputs": [],
   "source": [
    "pipe(prompt, num_inference_steps=16).images[0]"
   ]
  },
  {
   "cell_type": "code",
   "execution_count": null,
   "id": "4dbfcd3e",
   "metadata": {},
   "outputs": [],
   "source": [
    "num_rows,num_cols = 4,4\n",
    "prompts = [prompt]*num_cols"
   ]
  },
  {
   "cell_type": "code",
   "execution_count": null,
   "id": "fc7a2668",
   "metadata": {},
   "outputs": [],
   "source": [
    "#to show images in a grid\n",
    "def image_grid(imgs, rows, cols):\n",
    "    w,h = imgs[0].size\n",
    "    grid = Image.new('RGB', size=(cols*w, rows*h))\n",
    "    for i, img in enumerate(imgs): grid.paste(img, box=(i%cols*w, i//cols*h))\n",
    "    return grid"
   ]
  },
  {
   "cell_type": "code",
   "execution_count": null,
   "id": "bc56f6f9",
   "metadata": {},
   "outputs": [],
   "source": [
    "images = concat(pipe(prompts, guidance_scale=g).images for g in [1.1,3,7,14]) #guidance scale how much we should focus on the caption guidance scale of 14 has overshooted ig\n",
    "#concat is a function imported above"
   ]
  },
  {
   "cell_type": "code",
   "execution_count": null,
   "id": "83900025",
   "metadata": {},
   "outputs": [],
   "source": [
    "image_grid(images,rows=num_rows,cols=num_cols)"
   ]
  },
  {
   "cell_type": "code",
   "execution_count": null,
   "id": "87d80b90",
   "metadata": {},
   "outputs": [],
   "source": [
    "# negative prompts"
   ]
  },
  {
   "cell_type": "code",
   "execution_count": null,
   "id": "0fe049e3",
   "metadata": {},
   "outputs": [],
   "source": [
    "#normal\n",
    "prompt = \"Labrador in the style of Vermeer\"\n",
    "pipe(prompt).images[0]\n"
   ]
  },
  {
   "cell_type": "code",
   "execution_count": null,
   "id": "780e7009",
   "metadata": {},
   "outputs": [],
   "source": [
    "pipe(prompt, negative_prompt=\"blue\").images[0]#negative prompt of blue removes blue color from the image"
   ]
  },
  {
   "cell_type": "markdown",
   "id": "674cb093",
   "metadata": {},
   "source": [
    "### Image to Image\n",
    "\n",
    "Even though Stable Diffusion was trained to generate images, and optionally drive the generation using text conditioning, we can use the raw image diffusion process for other tasks.\n",
    "\n",
    "For example, instead of starting from pure noise, we can start from an image an add a certain amount of noise to it. We are replacing the initial steps of the denoising and pretending our image is what the algorithm came up with. Then we continue the diffusion process from that state as usual.\n",
    "\n",
    "This usually preserves the composition although details may change a lot. It's great for sketches!\n",
    "\n",
    "These operations (provide an initial image, add some noise to it and run diffusion from there) can be automatically performed by a special image to image pipeline: `StableDiffusionImg2ImgPipeline`. This is the source code for its [`__call__` method](https://github.com/huggingface/diffusers/blob/main/src/diffusers/pipelines/stable_diffusion/pipeline_stable_diffusion_img2img.py#L124)."
   ]
  },
  {
   "cell_type": "code",
   "execution_count": 11,
   "id": "f032493d",
   "metadata": {},
   "outputs": [],
   "source": [
    "# __call__ enables objects of a class to be called as a function\n",
    "from diffusers import StableDiffusionImg2ImgPipeline\n",
    "from fastdownload import FastDownload"
   ]
  },
  {
   "cell_type": "code",
   "execution_count": null,
   "id": "cb67b008",
   "metadata": {},
   "outputs": [],
   "source": [
    "pipe = StableDiffusionImg2ImgPipeline.from_pretrained(\n",
    "    \"CompVis/stable-diffusion-v1-4\",\n",
    "    revision=\"fp16\",\n",
    "    torch_dtype=torch.float16,\n",
    ").to(\"cuda\") \n",
    "#same as above"
   ]
  },
  {
   "cell_type": "code",
   "execution_count": null,
   "id": "2a8f5d9b",
   "metadata": {},
   "outputs": [],
   "source": [
    "p = FastDownload().download('https://s3.amazonaws.com/moonup/production/uploads/1664665907257-noauth.png')\n",
    "init_image = Image.open(p).convert(\"RGB\")\n",
    "init_image#rather than starting the diffusion with noise "
   ]
  },
  {
   "cell_type": "code",
   "execution_count": null,
   "id": "773e502d",
   "metadata": {},
   "outputs": [],
   "source": [
    "torch.manual_seed(1000)\n",
    "prompt = \"Wolf howling at the moon, photorealistic 4K\"\n",
    "images = pipe(prompt=prompt, num_images_per_prompt=3, init_image=init_image, strength=0.8, num_inference_steps=50).images\n",
    "image_grid(images, rows=1, cols=3)"
   ]
  },
  {
   "cell_type": "code",
   "execution_count": null,
   "id": "6ec0e826",
   "metadata": {},
   "outputs": [],
   "source": [
    "# this was image to image"
   ]
  },
  {
   "cell_type": "code",
   "execution_count": null,
   "id": "1ab2e00f",
   "metadata": {},
   "outputs": [],
   "source": []
  },
  {
   "cell_type": "code",
   "execution_count": null,
   "id": "e580c6fd",
   "metadata": {},
   "outputs": [],
   "source": []
  },
  {
   "cell_type": "code",
   "execution_count": null,
   "id": "b8a81f2e",
   "metadata": {},
   "outputs": [],
   "source": []
  },
  {
   "cell_type": "code",
   "execution_count": null,
   "id": "e1f0110c",
   "metadata": {},
   "outputs": [],
   "source": []
  },
  {
   "cell_type": "code",
   "execution_count": null,
   "id": "9ab7fa90",
   "metadata": {},
   "outputs": [],
   "source": []
  },
  {
   "cell_type": "code",
   "execution_count": null,
   "id": "0eeb3427",
   "metadata": {},
   "outputs": [],
   "source": []
  },
  {
   "cell_type": "code",
   "execution_count": null,
   "id": "db528f01",
   "metadata": {},
   "outputs": [],
   "source": []
  }
 ],
 "metadata": {
  "kernelspec": {
   "display_name": "gpu",
   "language": "python",
   "name": "gpu"
  },
  "language_info": {
   "codemirror_mode": {
    "name": "ipython",
    "version": 3
   },
   "file_extension": ".py",
   "mimetype": "text/x-python",
   "name": "python",
   "nbconvert_exporter": "python",
   "pygments_lexer": "ipython3",
   "version": "3.9.16"
  }
 },
 "nbformat": 4,
 "nbformat_minor": 5
}
